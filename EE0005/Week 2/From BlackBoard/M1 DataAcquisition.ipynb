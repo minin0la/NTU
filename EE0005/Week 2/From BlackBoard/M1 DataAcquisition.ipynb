{
 "cells": [
  {
   "cell_type": "markdown",
   "metadata": {},
   "source": [
    "# Data Acquisition in Python\n",
    "\n",
    "---\n",
    "\n",
    "### Essential Libraries\n",
    "\n",
    "Let us begin by importing the essential Python Libraries.\n",
    "\n",
    "> NumPy : Library for Numeric Computations in Python  \n",
    "> Pandas : Library for Data Acquisition and Preparation  "
   ]
  },
  {
   "cell_type": "code",
   "execution_count": 1,
   "metadata": {},
   "outputs": [
    {
     "output_type": "stream",
     "name": "stdout",
     "text": [
      "Requirement already satisfied: numpy in /home/minin0la/anaconda3/envs/ee0005/lib/python3.8/site-packages (1.19.5)\n",
      "Requirement already satisfied: pandas in /home/minin0la/anaconda3/envs/ee0005/lib/python3.8/site-packages (1.2.1)\n",
      "Requirement already satisfied: pytz>=2017.3 in /home/minin0la/anaconda3/envs/ee0005/lib/python3.8/site-packages (from pandas) (2020.5)\n",
      "Requirement already satisfied: python-dateutil>=2.7.3 in /home/minin0la/anaconda3/envs/ee0005/lib/python3.8/site-packages (from pandas) (2.8.1)\n",
      "Requirement already satisfied: six>=1.5 in /home/minin0la/anaconda3/envs/ee0005/lib/python3.8/site-packages (from python-dateutil>=2.7.3->pandas) (1.15.0)\n",
      "Note: you may need to restart the kernel to use updated packages.\n"
     ]
    }
   ],
   "source": [
    "pip install numpy pandas"
   ]
  },
  {
   "cell_type": "code",
   "execution_count": 2,
   "metadata": {},
   "outputs": [],
   "source": [
    "# Basic Libraries\n",
    "\n",
    "import numpy as np\n",
    "import pandas as pd\n"
   ]
  },
  {
   "cell_type": "markdown",
   "metadata": {},
   "source": [
    "---\n",
    "\n",
    "### Pandas Dataframe\n",
    "\n",
    "The `pandas` library in Python offers an amazing data structure for data science -- the `DataFrame`.    \n",
    "It is pretty close to a `dictionary`, and we will start by creating a `DataFrame` from `dictionary`."
   ]
  },
  {
   "cell_type": "code",
   "execution_count": 3,
   "metadata": {},
   "outputs": [
    {
     "output_type": "execute_result",
     "data": {
      "text/plain": [
       "'1.2.1'"
      ]
     },
     "metadata": {},
     "execution_count": 3
    }
   ],
   "source": [
    "pd.__version__"
   ]
  },
  {
   "cell_type": "code",
   "execution_count": 4,
   "metadata": {},
   "outputs": [
    {
     "output_type": "execute_result",
     "data": {
      "text/plain": [
       "          Name  Stalls  Rating\n",
       "0  North Spine      20     4.5\n",
       "1        Koufu      15     4.2\n",
       "2    Canteen 9      10     4.0\n",
       "3   North Hill      12     3.7\n",
       "4   Canteen 11       8     4.2"
      ],
      "text/html": "<div>\n<style scoped>\n    .dataframe tbody tr th:only-of-type {\n        vertical-align: middle;\n    }\n\n    .dataframe tbody tr th {\n        vertical-align: top;\n    }\n\n    .dataframe thead th {\n        text-align: right;\n    }\n</style>\n<table border=\"1\" class=\"dataframe\">\n  <thead>\n    <tr style=\"text-align: right;\">\n      <th></th>\n      <th>Name</th>\n      <th>Stalls</th>\n      <th>Rating</th>\n    </tr>\n  </thead>\n  <tbody>\n    <tr>\n      <th>0</th>\n      <td>North Spine</td>\n      <td>20</td>\n      <td>4.5</td>\n    </tr>\n    <tr>\n      <th>1</th>\n      <td>Koufu</td>\n      <td>15</td>\n      <td>4.2</td>\n    </tr>\n    <tr>\n      <th>2</th>\n      <td>Canteen 9</td>\n      <td>10</td>\n      <td>4.0</td>\n    </tr>\n    <tr>\n      <th>3</th>\n      <td>North Hill</td>\n      <td>12</td>\n      <td>3.7</td>\n    </tr>\n    <tr>\n      <th>4</th>\n      <td>Canteen 11</td>\n      <td>8</td>\n      <td>4.2</td>\n    </tr>\n  </tbody>\n</table>\n</div>"
     },
     "metadata": {},
     "execution_count": 4
    }
   ],
   "source": [
    "canteens_dict = {\"Name\" : [\"North Spine\", \"Koufu\", \"Canteen 9\", \"North Hill\", \"Canteen 11\"],\n",
    "                 \"Stalls\" : [20, 15, 10, 12, 8],\n",
    "                 \"Rating\" : [4.5, 4.2, 4.0, 3.7, 4.2]\n",
    "                }\n",
    "\n",
    "canteens_df = pd.DataFrame(canteens_dict)\n",
    "canteens_df"
   ]
  },
  {
   "cell_type": "markdown",
   "metadata": {},
   "source": [
    "It is super simple to access the columns of the `DataFrame` -- directly use the column names."
   ]
  },
  {
   "cell_type": "code",
   "execution_count": 5,
   "metadata": {},
   "outputs": [
    {
     "output_type": "execute_result",
     "data": {
      "text/plain": [
       "0    North Spine\n",
       "1          Koufu\n",
       "2      Canteen 9\n",
       "3     North Hill\n",
       "4     Canteen 11\n",
       "Name: Name, dtype: object"
      ]
     },
     "metadata": {},
     "execution_count": 5
    }
   ],
   "source": [
    "canteens_df[\"Name\"]"
   ]
  },
  {
   "cell_type": "markdown",
   "metadata": {},
   "source": [
    "You may also extract a single record or row from a `DataFrame` -- use `iloc` with the index."
   ]
  },
  {
   "cell_type": "code",
   "execution_count": 6,
   "metadata": {},
   "outputs": [
    {
     "output_type": "execute_result",
     "data": {
      "text/plain": [
       "          Name  Stalls  Rating\n",
       "0  North Spine      20     4.5\n",
       "1        Koufu      15     4.2\n",
       "2    Canteen 9      10     4.0\n",
       "3   North Hill      12     3.7\n",
       "4   Canteen 11       8     4.2"
      ],
      "text/html": "<div>\n<style scoped>\n    .dataframe tbody tr th:only-of-type {\n        vertical-align: middle;\n    }\n\n    .dataframe tbody tr th {\n        vertical-align: top;\n    }\n\n    .dataframe thead th {\n        text-align: right;\n    }\n</style>\n<table border=\"1\" class=\"dataframe\">\n  <thead>\n    <tr style=\"text-align: right;\">\n      <th></th>\n      <th>Name</th>\n      <th>Stalls</th>\n      <th>Rating</th>\n    </tr>\n  </thead>\n  <tbody>\n    <tr>\n      <th>0</th>\n      <td>North Spine</td>\n      <td>20</td>\n      <td>4.5</td>\n    </tr>\n    <tr>\n      <th>1</th>\n      <td>Koufu</td>\n      <td>15</td>\n      <td>4.2</td>\n    </tr>\n    <tr>\n      <th>2</th>\n      <td>Canteen 9</td>\n      <td>10</td>\n      <td>4.0</td>\n    </tr>\n    <tr>\n      <th>3</th>\n      <td>North Hill</td>\n      <td>12</td>\n      <td>3.7</td>\n    </tr>\n    <tr>\n      <th>4</th>\n      <td>Canteen 11</td>\n      <td>8</td>\n      <td>4.2</td>\n    </tr>\n  </tbody>\n</table>\n</div>"
     },
     "metadata": {},
     "execution_count": 6
    }
   ],
   "source": [
    "canteens_df.iloc[:]"
   ]
  },
  {
   "cell_type": "markdown",
   "metadata": {},
   "source": [
    "Thus, a Pandas `DataFrame` is really like a table, with structured data accessible in two ways."
   ]
  },
  {
   "cell_type": "code",
   "execution_count": null,
   "metadata": {},
   "outputs": [],
   "source": []
  },
  {
   "cell_type": "markdown",
   "metadata": {},
   "source": [
    "---\n",
    "\n",
    "### Import CSV file into a DataFrame\n",
    "\n",
    "If the dataset is in a standard CSV format (flat file), we may use the `read_csv` function from Pandas.   "
   ]
  },
  {
   "cell_type": "code",
   "execution_count": 7,
   "metadata": {},
   "outputs": [
    {
     "output_type": "execute_result",
     "data": {
      "text/plain": [
       "   0     1     2       3   4       5      6     7      8     9      10     11  \\\n",
       "0   1  12.6  12.3  1.0708  23  154.25  67.75  23.7  134.9  36.2   93.1   85.2   \n",
       "1   2   6.9   6.1  1.0853  22  173.25  72.25  23.4  161.3  38.5   93.6   83.0   \n",
       "2   3  24.6  25.3  1.0414  22  154.00  66.25  24.7  116.0  34.0   95.8   87.9   \n",
       "3   4  10.9  10.4  1.0751  26  184.75  72.25  24.9  164.7  37.4  101.8   86.4   \n",
       "4   5  27.8  28.7  1.0340  24  184.25  71.25  25.6  133.1  34.4   97.3  100.0   \n",
       "\n",
       "      12    13    14    15    16    17    18  \n",
       "0   94.5  59.0  37.3  21.9  32.0  27.4  17.1  \n",
       "1   98.7  58.7  37.3  23.4  30.5  28.9  18.2  \n",
       "2   99.2  59.6  38.9  24.0  28.8  25.2  16.6  \n",
       "3  101.2  60.1  37.3  22.8  32.4  29.4  18.2  \n",
       "4  101.9  63.2  42.2  24.0  32.2  27.7  17.7  "
      ],
      "text/html": "<div>\n<style scoped>\n    .dataframe tbody tr th:only-of-type {\n        vertical-align: middle;\n    }\n\n    .dataframe tbody tr th {\n        vertical-align: top;\n    }\n\n    .dataframe thead th {\n        text-align: right;\n    }\n</style>\n<table border=\"1\" class=\"dataframe\">\n  <thead>\n    <tr style=\"text-align: right;\">\n      <th></th>\n      <th>0</th>\n      <th>1</th>\n      <th>2</th>\n      <th>3</th>\n      <th>4</th>\n      <th>5</th>\n      <th>6</th>\n      <th>7</th>\n      <th>8</th>\n      <th>9</th>\n      <th>10</th>\n      <th>11</th>\n      <th>12</th>\n      <th>13</th>\n      <th>14</th>\n      <th>15</th>\n      <th>16</th>\n      <th>17</th>\n      <th>18</th>\n    </tr>\n  </thead>\n  <tbody>\n    <tr>\n      <th>0</th>\n      <td>1</td>\n      <td>12.6</td>\n      <td>12.3</td>\n      <td>1.0708</td>\n      <td>23</td>\n      <td>154.25</td>\n      <td>67.75</td>\n      <td>23.7</td>\n      <td>134.9</td>\n      <td>36.2</td>\n      <td>93.1</td>\n      <td>85.2</td>\n      <td>94.5</td>\n      <td>59.0</td>\n      <td>37.3</td>\n      <td>21.9</td>\n      <td>32.0</td>\n      <td>27.4</td>\n      <td>17.1</td>\n    </tr>\n    <tr>\n      <th>1</th>\n      <td>2</td>\n      <td>6.9</td>\n      <td>6.1</td>\n      <td>1.0853</td>\n      <td>22</td>\n      <td>173.25</td>\n      <td>72.25</td>\n      <td>23.4</td>\n      <td>161.3</td>\n      <td>38.5</td>\n      <td>93.6</td>\n      <td>83.0</td>\n      <td>98.7</td>\n      <td>58.7</td>\n      <td>37.3</td>\n      <td>23.4</td>\n      <td>30.5</td>\n      <td>28.9</td>\n      <td>18.2</td>\n    </tr>\n    <tr>\n      <th>2</th>\n      <td>3</td>\n      <td>24.6</td>\n      <td>25.3</td>\n      <td>1.0414</td>\n      <td>22</td>\n      <td>154.00</td>\n      <td>66.25</td>\n      <td>24.7</td>\n      <td>116.0</td>\n      <td>34.0</td>\n      <td>95.8</td>\n      <td>87.9</td>\n      <td>99.2</td>\n      <td>59.6</td>\n      <td>38.9</td>\n      <td>24.0</td>\n      <td>28.8</td>\n      <td>25.2</td>\n      <td>16.6</td>\n    </tr>\n    <tr>\n      <th>3</th>\n      <td>4</td>\n      <td>10.9</td>\n      <td>10.4</td>\n      <td>1.0751</td>\n      <td>26</td>\n      <td>184.75</td>\n      <td>72.25</td>\n      <td>24.9</td>\n      <td>164.7</td>\n      <td>37.4</td>\n      <td>101.8</td>\n      <td>86.4</td>\n      <td>101.2</td>\n      <td>60.1</td>\n      <td>37.3</td>\n      <td>22.8</td>\n      <td>32.4</td>\n      <td>29.4</td>\n      <td>18.2</td>\n    </tr>\n    <tr>\n      <th>4</th>\n      <td>5</td>\n      <td>27.8</td>\n      <td>28.7</td>\n      <td>1.0340</td>\n      <td>24</td>\n      <td>184.25</td>\n      <td>71.25</td>\n      <td>25.6</td>\n      <td>133.1</td>\n      <td>34.4</td>\n      <td>97.3</td>\n      <td>100.0</td>\n      <td>101.9</td>\n      <td>63.2</td>\n      <td>42.2</td>\n      <td>24.0</td>\n      <td>32.2</td>\n      <td>27.7</td>\n      <td>17.7</td>\n    </tr>\n  </tbody>\n</table>\n</div>"
     },
     "metadata": {},
     "execution_count": 7
    }
   ],
   "source": [
    "csv_data = pd.read_csv('data/somedata.csv', header = None)\n",
    "csv_data.head()"
   ]
  },
  {
   "cell_type": "code",
   "execution_count": 8,
   "metadata": {
    "scrolled": true
   },
   "outputs": [
    {
     "output_type": "stream",
     "name": "stdout",
     "text": [
      "Data type :  <class 'pandas.core.frame.DataFrame'>\nData dims :  (252, 19)\n"
     ]
    }
   ],
   "source": [
    "print(\"Data type : \", type(csv_data))\n",
    "print(\"Data dims : \", csv_data.shape)"
   ]
  },
  {
   "cell_type": "code",
   "execution_count": 9,
   "metadata": {},
   "outputs": [
    {
     "output_type": "stream",
     "name": "stdout",
     "text": [
      "<class 'pandas.core.frame.DataFrame'>\nRangeIndex: 252 entries, 0 to 251\nData columns (total 19 columns):\n #   Column  Non-Null Count  Dtype  \n---  ------  --------------  -----  \n 0   0       252 non-null    int64  \n 1   1       252 non-null    float64\n 2   2       252 non-null    float64\n 3   3       252 non-null    float64\n 4   4       252 non-null    int64  \n 5   5       252 non-null    float64\n 6   6       252 non-null    float64\n 7   7       252 non-null    float64\n 8   8       252 non-null    float64\n 9   9       252 non-null    float64\n 10  10      252 non-null    float64\n 11  11      252 non-null    float64\n 12  12      252 non-null    float64\n 13  13      252 non-null    float64\n 14  14      252 non-null    float64\n 15  15      252 non-null    float64\n 16  16      252 non-null    float64\n 17  17      252 non-null    float64\n 18  18      252 non-null    float64\ndtypes: float64(17), int64(2)\nmemory usage: 37.5 KB\n"
     ]
    }
   ],
   "source": [
    "csv_data.info()"
   ]
  },
  {
   "cell_type": "markdown",
   "metadata": {},
   "source": [
    "---\n",
    "\n",
    "### Import TXT file into a DataFrame\n",
    "\n",
    "If the dataset is in a standard TXT format (flat file), we may use the `read_table` function from Pandas.   "
   ]
  },
  {
   "cell_type": "code",
   "execution_count": 10,
   "metadata": {},
   "outputs": [
    {
     "output_type": "execute_result",
     "data": {
      "text/plain": [
       "   0     1     2       3   4       5      6     7      8     9      10     11  \\\n",
       "0   1  12.6  12.3  1.0708  23  154.25  67.75  23.7  134.9  36.2   93.1   85.2   \n",
       "1   2   6.9   6.1  1.0853  22  173.25  72.25  23.4  161.3  38.5   93.6   83.0   \n",
       "2   3  24.6  25.3  1.0414  22  154.00  66.25  24.7  116.0  34.0   95.8   87.9   \n",
       "3   4  10.9  10.4  1.0751  26  184.75  72.25  24.9  164.7  37.4  101.8   86.4   \n",
       "4   5  27.8  28.7  1.0340  24  184.25  71.25  25.6  133.1  34.4   97.3  100.0   \n",
       "\n",
       "      12    13    14    15    16    17    18  \n",
       "0   94.5  59.0  37.3  21.9  32.0  27.4  17.1  \n",
       "1   98.7  58.7  37.3  23.4  30.5  28.9  18.2  \n",
       "2   99.2  59.6  38.9  24.0  28.8  25.2  16.6  \n",
       "3  101.2  60.1  37.3  22.8  32.4  29.4  18.2  \n",
       "4  101.9  63.2  42.2  24.0  32.2  27.7  17.7  "
      ],
      "text/html": "<div>\n<style scoped>\n    .dataframe tbody tr th:only-of-type {\n        vertical-align: middle;\n    }\n\n    .dataframe tbody tr th {\n        vertical-align: top;\n    }\n\n    .dataframe thead th {\n        text-align: right;\n    }\n</style>\n<table border=\"1\" class=\"dataframe\">\n  <thead>\n    <tr style=\"text-align: right;\">\n      <th></th>\n      <th>0</th>\n      <th>1</th>\n      <th>2</th>\n      <th>3</th>\n      <th>4</th>\n      <th>5</th>\n      <th>6</th>\n      <th>7</th>\n      <th>8</th>\n      <th>9</th>\n      <th>10</th>\n      <th>11</th>\n      <th>12</th>\n      <th>13</th>\n      <th>14</th>\n      <th>15</th>\n      <th>16</th>\n      <th>17</th>\n      <th>18</th>\n    </tr>\n  </thead>\n  <tbody>\n    <tr>\n      <th>0</th>\n      <td>1</td>\n      <td>12.6</td>\n      <td>12.3</td>\n      <td>1.0708</td>\n      <td>23</td>\n      <td>154.25</td>\n      <td>67.75</td>\n      <td>23.7</td>\n      <td>134.9</td>\n      <td>36.2</td>\n      <td>93.1</td>\n      <td>85.2</td>\n      <td>94.5</td>\n      <td>59.0</td>\n      <td>37.3</td>\n      <td>21.9</td>\n      <td>32.0</td>\n      <td>27.4</td>\n      <td>17.1</td>\n    </tr>\n    <tr>\n      <th>1</th>\n      <td>2</td>\n      <td>6.9</td>\n      <td>6.1</td>\n      <td>1.0853</td>\n      <td>22</td>\n      <td>173.25</td>\n      <td>72.25</td>\n      <td>23.4</td>\n      <td>161.3</td>\n      <td>38.5</td>\n      <td>93.6</td>\n      <td>83.0</td>\n      <td>98.7</td>\n      <td>58.7</td>\n      <td>37.3</td>\n      <td>23.4</td>\n      <td>30.5</td>\n      <td>28.9</td>\n      <td>18.2</td>\n    </tr>\n    <tr>\n      <th>2</th>\n      <td>3</td>\n      <td>24.6</td>\n      <td>25.3</td>\n      <td>1.0414</td>\n      <td>22</td>\n      <td>154.00</td>\n      <td>66.25</td>\n      <td>24.7</td>\n      <td>116.0</td>\n      <td>34.0</td>\n      <td>95.8</td>\n      <td>87.9</td>\n      <td>99.2</td>\n      <td>59.6</td>\n      <td>38.9</td>\n      <td>24.0</td>\n      <td>28.8</td>\n      <td>25.2</td>\n      <td>16.6</td>\n    </tr>\n    <tr>\n      <th>3</th>\n      <td>4</td>\n      <td>10.9</td>\n      <td>10.4</td>\n      <td>1.0751</td>\n      <td>26</td>\n      <td>184.75</td>\n      <td>72.25</td>\n      <td>24.9</td>\n      <td>164.7</td>\n      <td>37.4</td>\n      <td>101.8</td>\n      <td>86.4</td>\n      <td>101.2</td>\n      <td>60.1</td>\n      <td>37.3</td>\n      <td>22.8</td>\n      <td>32.4</td>\n      <td>29.4</td>\n      <td>18.2</td>\n    </tr>\n    <tr>\n      <th>4</th>\n      <td>5</td>\n      <td>27.8</td>\n      <td>28.7</td>\n      <td>1.0340</td>\n      <td>24</td>\n      <td>184.25</td>\n      <td>71.25</td>\n      <td>25.6</td>\n      <td>133.1</td>\n      <td>34.4</td>\n      <td>97.3</td>\n      <td>100.0</td>\n      <td>101.9</td>\n      <td>63.2</td>\n      <td>42.2</td>\n      <td>24.0</td>\n      <td>32.2</td>\n      <td>27.7</td>\n      <td>17.7</td>\n    </tr>\n  </tbody>\n</table>\n</div>"
     },
     "metadata": {},
     "execution_count": 10
    }
   ],
   "source": [
    "txt_data = pd.read_csv('data/somedata.txt', sep = \"\\s+\", header = None)\n",
    "txt_data.head()"
   ]
  },
  {
   "cell_type": "code",
   "execution_count": 11,
   "metadata": {
    "scrolled": true
   },
   "outputs": [
    {
     "output_type": "stream",
     "name": "stdout",
     "text": [
      "Data type :  <class 'pandas.core.frame.DataFrame'>\nData dims :  (252, 19)\n"
     ]
    }
   ],
   "source": [
    "print(\"Data type : \", type(txt_data))\n",
    "print(\"Data dims : \", txt_data.shape)"
   ]
  },
  {
   "cell_type": "code",
   "execution_count": null,
   "metadata": {},
   "outputs": [],
   "source": []
  },
  {
   "cell_type": "markdown",
   "metadata": {},
   "source": [
    "---\n",
    "\n",
    "### Import XLS file into a DataFrame\n",
    "\n",
    "If the dataset is in a Microsoft XLS or XLSX format, we may use the `read_excel` function from Pandas.    \n",
    "However, to use the `read_excel` function, you will need to install the `xlrd` module using Anaconda."
   ]
  },
  {
   "cell_type": "code",
   "execution_count": 12,
   "metadata": {},
   "outputs": [
    {
     "output_type": "execute_result",
     "data": {
      "text/plain": [
       "   0     1     2       3   4       5      6     7      8     9      10     11  \\\n",
       "0   1  12.6  12.3  1.0708  23  154.25  67.75  23.7  134.9  36.2   93.1   85.2   \n",
       "1   2   6.9   6.1  1.0853  22  173.25  72.25  23.4  161.3  38.5   93.6   83.0   \n",
       "2   3  24.6  25.3  1.0414  22  154.00  66.25  24.7  116.0  34.0   95.8   87.9   \n",
       "3   4  10.9  10.4  1.0751  26  184.75  72.25  24.9  164.7  37.4  101.8   86.4   \n",
       "4   5  27.8  28.7  1.0340  24  184.25  71.25  25.6  133.1  34.4   97.3  100.0   \n",
       "\n",
       "      12    13    14    15    16    17    18  \n",
       "0   94.5  59.0  37.3  21.9  32.0  27.4  17.1  \n",
       "1   98.7  58.7  37.3  23.4  30.5  28.9  18.2  \n",
       "2   99.2  59.6  38.9  24.0  28.8  25.2  16.6  \n",
       "3  101.2  60.1  37.3  22.8  32.4  29.4  18.2  \n",
       "4  101.9  63.2  42.2  24.0  32.2  27.7  17.7  "
      ],
      "text/html": "<div>\n<style scoped>\n    .dataframe tbody tr th:only-of-type {\n        vertical-align: middle;\n    }\n\n    .dataframe tbody tr th {\n        vertical-align: top;\n    }\n\n    .dataframe thead th {\n        text-align: right;\n    }\n</style>\n<table border=\"1\" class=\"dataframe\">\n  <thead>\n    <tr style=\"text-align: right;\">\n      <th></th>\n      <th>0</th>\n      <th>1</th>\n      <th>2</th>\n      <th>3</th>\n      <th>4</th>\n      <th>5</th>\n      <th>6</th>\n      <th>7</th>\n      <th>8</th>\n      <th>9</th>\n      <th>10</th>\n      <th>11</th>\n      <th>12</th>\n      <th>13</th>\n      <th>14</th>\n      <th>15</th>\n      <th>16</th>\n      <th>17</th>\n      <th>18</th>\n    </tr>\n  </thead>\n  <tbody>\n    <tr>\n      <th>0</th>\n      <td>1</td>\n      <td>12.6</td>\n      <td>12.3</td>\n      <td>1.0708</td>\n      <td>23</td>\n      <td>154.25</td>\n      <td>67.75</td>\n      <td>23.7</td>\n      <td>134.9</td>\n      <td>36.2</td>\n      <td>93.1</td>\n      <td>85.2</td>\n      <td>94.5</td>\n      <td>59.0</td>\n      <td>37.3</td>\n      <td>21.9</td>\n      <td>32.0</td>\n      <td>27.4</td>\n      <td>17.1</td>\n    </tr>\n    <tr>\n      <th>1</th>\n      <td>2</td>\n      <td>6.9</td>\n      <td>6.1</td>\n      <td>1.0853</td>\n      <td>22</td>\n      <td>173.25</td>\n      <td>72.25</td>\n      <td>23.4</td>\n      <td>161.3</td>\n      <td>38.5</td>\n      <td>93.6</td>\n      <td>83.0</td>\n      <td>98.7</td>\n      <td>58.7</td>\n      <td>37.3</td>\n      <td>23.4</td>\n      <td>30.5</td>\n      <td>28.9</td>\n      <td>18.2</td>\n    </tr>\n    <tr>\n      <th>2</th>\n      <td>3</td>\n      <td>24.6</td>\n      <td>25.3</td>\n      <td>1.0414</td>\n      <td>22</td>\n      <td>154.00</td>\n      <td>66.25</td>\n      <td>24.7</td>\n      <td>116.0</td>\n      <td>34.0</td>\n      <td>95.8</td>\n      <td>87.9</td>\n      <td>99.2</td>\n      <td>59.6</td>\n      <td>38.9</td>\n      <td>24.0</td>\n      <td>28.8</td>\n      <td>25.2</td>\n      <td>16.6</td>\n    </tr>\n    <tr>\n      <th>3</th>\n      <td>4</td>\n      <td>10.9</td>\n      <td>10.4</td>\n      <td>1.0751</td>\n      <td>26</td>\n      <td>184.75</td>\n      <td>72.25</td>\n      <td>24.9</td>\n      <td>164.7</td>\n      <td>37.4</td>\n      <td>101.8</td>\n      <td>86.4</td>\n      <td>101.2</td>\n      <td>60.1</td>\n      <td>37.3</td>\n      <td>22.8</td>\n      <td>32.4</td>\n      <td>29.4</td>\n      <td>18.2</td>\n    </tr>\n    <tr>\n      <th>4</th>\n      <td>5</td>\n      <td>27.8</td>\n      <td>28.7</td>\n      <td>1.0340</td>\n      <td>24</td>\n      <td>184.25</td>\n      <td>71.25</td>\n      <td>25.6</td>\n      <td>133.1</td>\n      <td>34.4</td>\n      <td>97.3</td>\n      <td>100.0</td>\n      <td>101.9</td>\n      <td>63.2</td>\n      <td>42.2</td>\n      <td>24.0</td>\n      <td>32.2</td>\n      <td>27.7</td>\n      <td>17.7</td>\n    </tr>\n  </tbody>\n</table>\n</div>"
     },
     "metadata": {},
     "execution_count": 12
    }
   ],
   "source": [
    "xls_data = pd.read_excel('data/somedata.xlsx', sheet_name = 'Sheet1', header = None)\n",
    "xls_data.head()"
   ]
  },
  {
   "cell_type": "code",
   "execution_count": 13,
   "metadata": {
    "scrolled": true
   },
   "outputs": [
    {
     "output_type": "stream",
     "name": "stdout",
     "text": [
      "Data type :  <class 'pandas.core.frame.DataFrame'>\nData dims :  (252, 19)\n"
     ]
    }
   ],
   "source": [
    "print(\"Data type : \", type(xls_data))\n",
    "print(\"Data dims : \", xls_data.shape)"
   ]
  },
  {
   "cell_type": "code",
   "execution_count": null,
   "metadata": {},
   "outputs": [],
   "source": []
  },
  {
   "cell_type": "markdown",
   "metadata": {},
   "source": [
    "\n",
    "---\n",
    "\n",
    "### Import JSON file into a DataFrame\n",
    "\n",
    "If the dataset is in a standard JSON format, we may use the `read_json` function from Pandas.    "
   ]
  },
  {
   "cell_type": "code",
   "execution_count": 14,
   "metadata": {},
   "outputs": [
    {
     "output_type": "execute_result",
     "data": {
      "text/plain": [
       "   0     1     2       3   4       5      6     7      8     9      10     11  \\\n",
       "0   1  12.6  12.3  1.0708  23  154.25  67.75  23.7  134.9  36.2   93.1   85.2   \n",
       "1   2   6.9   6.1  1.0853  22  173.25  72.25  23.4  161.3  38.5   93.6   83.0   \n",
       "2   3  24.6  25.3  1.0414  22  154.00  66.25  24.7  116.0  34.0   95.8   87.9   \n",
       "3   4  10.9  10.4  1.0751  26  184.75  72.25  24.9  164.7  37.4  101.8   86.4   \n",
       "4   5  27.8  28.7  1.0340  24  184.25  71.25  25.6  133.1  34.4   97.3  100.0   \n",
       "\n",
       "      12    13    14    15    16    17    18  \n",
       "0   94.5  59.0  37.3  21.9  32.0  27.4  17.1  \n",
       "1   98.7  58.7  37.3  23.4  30.5  28.9  18.2  \n",
       "2   99.2  59.6  38.9  24.0  28.8  25.2  16.6  \n",
       "3  101.2  60.1  37.3  22.8  32.4  29.4  18.2  \n",
       "4  101.9  63.2  42.2  24.0  32.2  27.7  17.7  "
      ],
      "text/html": "<div>\n<style scoped>\n    .dataframe tbody tr th:only-of-type {\n        vertical-align: middle;\n    }\n\n    .dataframe tbody tr th {\n        vertical-align: top;\n    }\n\n    .dataframe thead th {\n        text-align: right;\n    }\n</style>\n<table border=\"1\" class=\"dataframe\">\n  <thead>\n    <tr style=\"text-align: right;\">\n      <th></th>\n      <th>0</th>\n      <th>1</th>\n      <th>2</th>\n      <th>3</th>\n      <th>4</th>\n      <th>5</th>\n      <th>6</th>\n      <th>7</th>\n      <th>8</th>\n      <th>9</th>\n      <th>10</th>\n      <th>11</th>\n      <th>12</th>\n      <th>13</th>\n      <th>14</th>\n      <th>15</th>\n      <th>16</th>\n      <th>17</th>\n      <th>18</th>\n    </tr>\n  </thead>\n  <tbody>\n    <tr>\n      <th>0</th>\n      <td>1</td>\n      <td>12.6</td>\n      <td>12.3</td>\n      <td>1.0708</td>\n      <td>23</td>\n      <td>154.25</td>\n      <td>67.75</td>\n      <td>23.7</td>\n      <td>134.9</td>\n      <td>36.2</td>\n      <td>93.1</td>\n      <td>85.2</td>\n      <td>94.5</td>\n      <td>59.0</td>\n      <td>37.3</td>\n      <td>21.9</td>\n      <td>32.0</td>\n      <td>27.4</td>\n      <td>17.1</td>\n    </tr>\n    <tr>\n      <th>1</th>\n      <td>2</td>\n      <td>6.9</td>\n      <td>6.1</td>\n      <td>1.0853</td>\n      <td>22</td>\n      <td>173.25</td>\n      <td>72.25</td>\n      <td>23.4</td>\n      <td>161.3</td>\n      <td>38.5</td>\n      <td>93.6</td>\n      <td>83.0</td>\n      <td>98.7</td>\n      <td>58.7</td>\n      <td>37.3</td>\n      <td>23.4</td>\n      <td>30.5</td>\n      <td>28.9</td>\n      <td>18.2</td>\n    </tr>\n    <tr>\n      <th>2</th>\n      <td>3</td>\n      <td>24.6</td>\n      <td>25.3</td>\n      <td>1.0414</td>\n      <td>22</td>\n      <td>154.00</td>\n      <td>66.25</td>\n      <td>24.7</td>\n      <td>116.0</td>\n      <td>34.0</td>\n      <td>95.8</td>\n      <td>87.9</td>\n      <td>99.2</td>\n      <td>59.6</td>\n      <td>38.9</td>\n      <td>24.0</td>\n      <td>28.8</td>\n      <td>25.2</td>\n      <td>16.6</td>\n    </tr>\n    <tr>\n      <th>3</th>\n      <td>4</td>\n      <td>10.9</td>\n      <td>10.4</td>\n      <td>1.0751</td>\n      <td>26</td>\n      <td>184.75</td>\n      <td>72.25</td>\n      <td>24.9</td>\n      <td>164.7</td>\n      <td>37.4</td>\n      <td>101.8</td>\n      <td>86.4</td>\n      <td>101.2</td>\n      <td>60.1</td>\n      <td>37.3</td>\n      <td>22.8</td>\n      <td>32.4</td>\n      <td>29.4</td>\n      <td>18.2</td>\n    </tr>\n    <tr>\n      <th>4</th>\n      <td>5</td>\n      <td>27.8</td>\n      <td>28.7</td>\n      <td>1.0340</td>\n      <td>24</td>\n      <td>184.25</td>\n      <td>71.25</td>\n      <td>25.6</td>\n      <td>133.1</td>\n      <td>34.4</td>\n      <td>97.3</td>\n      <td>100.0</td>\n      <td>101.9</td>\n      <td>63.2</td>\n      <td>42.2</td>\n      <td>24.0</td>\n      <td>32.2</td>\n      <td>27.7</td>\n      <td>17.7</td>\n    </tr>\n  </tbody>\n</table>\n</div>"
     },
     "metadata": {},
     "execution_count": 14
    }
   ],
   "source": [
    "json_data = pd.read_json('data/somedata.json')\n",
    "json_data.head()"
   ]
  },
  {
   "cell_type": "code",
   "execution_count": 15,
   "metadata": {
    "scrolled": true
   },
   "outputs": [
    {
     "output_type": "stream",
     "name": "stdout",
     "text": [
      "Data type :  <class 'pandas.core.frame.DataFrame'>\nData dims :  (252, 19)\n"
     ]
    }
   ],
   "source": [
    "print(\"Data type : \", type(json_data))\n",
    "print(\"Data dims : \", json_data.shape)"
   ]
  },
  {
   "cell_type": "code",
   "execution_count": null,
   "metadata": {},
   "outputs": [],
   "source": []
  },
  {
   "cell_type": "markdown",
   "metadata": {},
   "source": [
    "---\n",
    "\n",
    "### Import HTML table into a DataFrame\n",
    "\n",
    "If the dataset is in a table formal within an HTML website, we may use the `read_html` function from Pandas.    \n",
    "Let's try to get the Cast of Kung-Fu Panda : http://www.imdb.com/title/tt0441773/fullcredits/?ref_=tt_ov_st_sm"
   ]
  },
  {
   "cell_type": "code",
   "execution_count": 16,
   "metadata": {},
   "outputs": [],
   "source": [
    "html_data = pd.read_html('http://www.imdb.com/title/tt0441773/fullcredits/?ref_=tt_ov_st_sm')"
   ]
  },
  {
   "cell_type": "code",
   "execution_count": 17,
   "metadata": {},
   "outputs": [
    {
     "output_type": "stream",
     "name": "stdout",
     "text": [
      "Data type :  <class 'list'>\nHTML tables :  24\n"
     ]
    }
   ],
   "source": [
    "print(\"Data type : \", type(html_data))\n",
    "print(\"HTML tables : \", len(html_data))"
   ]
  },
  {
   "cell_type": "code",
   "execution_count": 65,
   "metadata": {},
   "outputs": [
    {
     "output_type": "execute_result",
     "data": {
      "text/plain": [
       "                        1                                  3\n",
       "1              Jack Black                         Po (voice)\n",
       "2          Dustin Hoffman                      Shifu (voice)\n",
       "3          Angelina Jolie                    Tigress (voice)\n",
       "4             Ian McShane                   Tai Lung (voice)\n",
       "5             Jackie Chan                     Monkey (voice)\n",
       "6              Seth Rogen                     Mantis (voice)\n",
       "7                Lucy Liu                      Viper (voice)\n",
       "8             David Cross                      Crane (voice)\n",
       "9         Randall Duk Kim                     Oogway (voice)\n",
       "10             James Hong                   Mr. Ping (voice)\n",
       "11             Dan Fogler                       Zeng (voice)\n",
       "12  Michael Clarke Duncan           Commander Vachir (voice)\n",
       "13           Wayne Knight                  Gang Boss (voice)\n",
       "14              Kyle Gass                    KG Shaw (voice)\n",
       "15                JR Reed                    JR Shaw (voice)\n",
       "16      Laura Kightlinger                 Awed Ninja (voice)\n",
       "17            Tanya Haden              Smitten Bunny (voice)\n",
       "18         Stephen Kearin  Gong Pig / Grateful Bunny (voice)\n",
       "19           Mark Osborne                 Pig Patron (voice)\n",
       "20         John Stevenson                Rhino Guard (voice)\n",
       "21           Jeremy Shipp                Blind Gator (voice)\n",
       "22           Melissa Cobb                  Bunny Mom (voice)\n",
       "23           Kent Osborne                    Pig Fan (voice)\n",
       "24            Emily Burns                Bunny Fan 1 (voice)\n",
       "25       Stephanie Harvey                Bunny Fan 2 (voice)\n",
       "26          Riley Osborne              Baby Tai Lung (voice)"
      ],
      "text/html": "<div>\n<style scoped>\n    .dataframe tbody tr th:only-of-type {\n        vertical-align: middle;\n    }\n\n    .dataframe tbody tr th {\n        vertical-align: top;\n    }\n\n    .dataframe thead th {\n        text-align: right;\n    }\n</style>\n<table border=\"1\" class=\"dataframe\">\n  <thead>\n    <tr style=\"text-align: right;\">\n      <th></th>\n      <th>1</th>\n      <th>3</th>\n    </tr>\n  </thead>\n  <tbody>\n    <tr>\n      <th>1</th>\n      <td>Jack Black</td>\n      <td>Po (voice)</td>\n    </tr>\n    <tr>\n      <th>2</th>\n      <td>Dustin Hoffman</td>\n      <td>Shifu (voice)</td>\n    </tr>\n    <tr>\n      <th>3</th>\n      <td>Angelina Jolie</td>\n      <td>Tigress (voice)</td>\n    </tr>\n    <tr>\n      <th>4</th>\n      <td>Ian McShane</td>\n      <td>Tai Lung (voice)</td>\n    </tr>\n    <tr>\n      <th>5</th>\n      <td>Jackie Chan</td>\n      <td>Monkey (voice)</td>\n    </tr>\n    <tr>\n      <th>6</th>\n      <td>Seth Rogen</td>\n      <td>Mantis (voice)</td>\n    </tr>\n    <tr>\n      <th>7</th>\n      <td>Lucy Liu</td>\n      <td>Viper (voice)</td>\n    </tr>\n    <tr>\n      <th>8</th>\n      <td>David Cross</td>\n      <td>Crane (voice)</td>\n    </tr>\n    <tr>\n      <th>9</th>\n      <td>Randall Duk Kim</td>\n      <td>Oogway (voice)</td>\n    </tr>\n    <tr>\n      <th>10</th>\n      <td>James Hong</td>\n      <td>Mr. Ping (voice)</td>\n    </tr>\n    <tr>\n      <th>11</th>\n      <td>Dan Fogler</td>\n      <td>Zeng (voice)</td>\n    </tr>\n    <tr>\n      <th>12</th>\n      <td>Michael Clarke Duncan</td>\n      <td>Commander Vachir (voice)</td>\n    </tr>\n    <tr>\n      <th>13</th>\n      <td>Wayne Knight</td>\n      <td>Gang Boss (voice)</td>\n    </tr>\n    <tr>\n      <th>14</th>\n      <td>Kyle Gass</td>\n      <td>KG Shaw (voice)</td>\n    </tr>\n    <tr>\n      <th>15</th>\n      <td>JR Reed</td>\n      <td>JR Shaw (voice)</td>\n    </tr>\n    <tr>\n      <th>16</th>\n      <td>Laura Kightlinger</td>\n      <td>Awed Ninja (voice)</td>\n    </tr>\n    <tr>\n      <th>17</th>\n      <td>Tanya Haden</td>\n      <td>Smitten Bunny (voice)</td>\n    </tr>\n    <tr>\n      <th>18</th>\n      <td>Stephen Kearin</td>\n      <td>Gong Pig / Grateful Bunny (voice)</td>\n    </tr>\n    <tr>\n      <th>19</th>\n      <td>Mark Osborne</td>\n      <td>Pig Patron (voice)</td>\n    </tr>\n    <tr>\n      <th>20</th>\n      <td>John Stevenson</td>\n      <td>Rhino Guard (voice)</td>\n    </tr>\n    <tr>\n      <th>21</th>\n      <td>Jeremy Shipp</td>\n      <td>Blind Gator (voice)</td>\n    </tr>\n    <tr>\n      <th>22</th>\n      <td>Melissa Cobb</td>\n      <td>Bunny Mom (voice)</td>\n    </tr>\n    <tr>\n      <th>23</th>\n      <td>Kent Osborne</td>\n      <td>Pig Fan (voice)</td>\n    </tr>\n    <tr>\n      <th>24</th>\n      <td>Emily Burns</td>\n      <td>Bunny Fan 1 (voice)</td>\n    </tr>\n    <tr>\n      <th>25</th>\n      <td>Stephanie Harvey</td>\n      <td>Bunny Fan 2 (voice)</td>\n    </tr>\n    <tr>\n      <th>26</th>\n      <td>Riley Osborne</td>\n      <td>Baby Tai Lung (voice)</td>\n    </tr>\n  </tbody>\n</table>\n</div>"
     },
     "metadata": {},
     "execution_count": 65
    }
   ],
   "source": [
    "html_data[2].loc[1:26,[1,3]]\n",
    "\n",
    "\n",
    "# # newdata = html_data[2]\n",
    "# # list(newdata[1])[1:-2]\n",
    "\n",
    "# html_data[2]\n",
    "# newdata = html_data[2]\n",
    "# newdata[1]\n",
    "# list(newdata[1])[1:-2]"
   ]
  },
  {
   "cell_type": "code",
   "execution_count": null,
   "metadata": {},
   "outputs": [],
   "source": []
  }
 ],
 "metadata": {
  "kernelspec": {
   "name": "python3",
   "display_name": "Python 3.8.5 64-bit ('ee0005': conda)",
   "metadata": {
    "interpreter": {
     "hash": "a6a47705346e7059e68dc068b1668aa5a61b88c5a31a810704d02dcc6d0f75fb"
    }
   }
  },
  "language_info": {
   "codemirror_mode": {
    "name": "ipython",
    "version": 3
   },
   "file_extension": ".py",
   "mimetype": "text/x-python",
   "name": "python",
   "nbconvert_exporter": "python",
   "pygments_lexer": "ipython3",
   "version": "3.8.5-final"
  }
 },
 "nbformat": 4,
 "nbformat_minor": 2
}