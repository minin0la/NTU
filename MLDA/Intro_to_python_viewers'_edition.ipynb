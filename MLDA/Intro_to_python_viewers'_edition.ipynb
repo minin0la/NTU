{
 "cells": [
  {
   "cell_type": "markdown",
   "metadata": {
    "colab_type": "text",
    "id": "igSjmLDkdWOw"
   },
   "source": [
    "# Python basic syntax"
   ]
  },
  {
   "cell_type": "markdown",
   "metadata": {
    "colab_type": "text",
    "id": "OLubmP24Td_e"
   },
   "source": [
    "### Indentation"
   ]
  },
  {
   "cell_type": "markdown",
   "metadata": {
    "colab_type": "text",
    "id": "fHN6LNw1Tt61"
   },
   "source": [
    "Indentation refers to the spaces at the beginning of a code line.\n",
    "\n",
    "Where in other programming languages the indentation in code is for readability only, the indentation in Python is very important.\n",
    "\n",
    "Python uses indentation to indicate a block of code."
   ]
  },
  {
   "cell_type": "code",
   "execution_count": null,
   "metadata": {
    "colab": {
     "base_uri": "https://localhost:8080/",
     "height": 51
    },
    "colab_type": "code",
    "id": "JTzLPjZnTfm9",
    "outputId": "e23f2984-4590-4aac-d08b-face9444d980"
   },
   "outputs": [
    {
     "name": "stdout",
     "output_type": "stream",
     "text": [
      "Five is greater than two!\n",
      "End\n"
     ]
    }
   ],
   "source": [
    "if 5 > 2:\n",
    "  print(\"Five is greater than two!\")\n",
    "  print(\"End\")"
   ]
  },
  {
   "cell_type": "code",
   "execution_count": null,
   "metadata": {
    "colab": {},
    "colab_type": "code",
    "id": "5txDvEbkT9Cp"
   },
   "outputs": [],
   "source": [
    "if 5 < 2:\n",
    "  print(\"Five is less than two!\")\n",
    "  print(\"End\")"
   ]
  },
  {
   "cell_type": "markdown",
   "metadata": {
    "colab_type": "text",
    "id": "4-3gkP7-cikm"
   },
   "source": [
    "## Comment"
   ]
  },
  {
   "cell_type": "markdown",
   "metadata": {
    "colab_type": "text",
    "id": "loP_zlgEUJEy"
   },
   "source": [
    "Use comments to annotate codes\n",
    "\n",
    "Comments are ignored by Python interpreter"
   ]
  },
  {
   "cell_type": "code",
   "execution_count": null,
   "metadata": {
    "colab": {
     "base_uri": "https://localhost:8080/",
     "height": 35
    },
    "colab_type": "code",
    "id": "pswysxByF4Ek",
    "outputId": "9a7656bd-c772-43cf-871f-53de67ecdd1f"
   },
   "outputs": [
    {
     "data": {
      "application/vnd.google.colaboratory.intrinsic+json": {
       "type": "string"
      },
      "text/plain": [
       "'\\nThis is a multiple line comment\\nLine 2\\n'"
      ]
     },
     "execution_count": 4,
     "metadata": {
      "tags": []
     },
     "output_type": "execute_result"
    }
   ],
   "source": [
    "#This is a inline comment\n",
    "\n",
    "\"\"\"\n",
    "This is a multiple line comment\n",
    "Line 2\n",
    "\"\"\""
   ]
  },
  {
   "cell_type": "markdown",
   "metadata": {
    "colab_type": "text",
    "id": "BRPX8LdnLi5b"
   },
   "source": [
    "## Variables and Data types"
   ]
  },
  {
   "cell_type": "markdown",
   "metadata": {
    "colab_type": "text",
    "id": "8DhAbOr9UaYp"
   },
   "source": [
    "A variable is reated when assigned with a value\n",
    "\n",
    "Use = to assign a value to a variable\n",
    "\n",
    "No need to declare Data Type – Automatically detected\n",
    "\n",
    "Python - dynamic typed - Data type is determined at run-time\n"
   ]
  },
  {
   "cell_type": "markdown",
   "metadata": {
    "colab_type": "text",
    "id": "VDR_WU-uVTzg"
   },
   "source": [
    "### integer"
   ]
  },
  {
   "cell_type": "code",
   "execution_count": null,
   "metadata": {
    "colab": {
     "base_uri": "https://localhost:8080/",
     "height": 34
    },
    "colab_type": "code",
    "id": "Zyi5GgP9K0J5",
    "outputId": "96798354-fcea-44b6-f589-0e530765a2cc"
   },
   "outputs": [
    {
     "data": {
      "text/plain": [
       "int"
      ]
     },
     "execution_count": 5,
     "metadata": {
      "tags": []
     },
     "output_type": "execute_result"
    }
   ],
   "source": [
    "a = 10 # a is a int\n",
    "\n",
    "type(a)"
   ]
  },
  {
   "cell_type": "markdown",
   "metadata": {
    "colab_type": "text",
    "id": "t4D6mDM7VYIC"
   },
   "source": [
    "### floating point "
   ]
  },
  {
   "cell_type": "code",
   "execution_count": null,
   "metadata": {
    "colab": {
     "base_uri": "https://localhost:8080/",
     "height": 34
    },
    "colab_type": "code",
    "id": "laukQt3u5M9q",
    "outputId": "7a457000-54d6-4230-9450-f1ff0b5f2219"
   },
   "outputs": [
    {
     "data": {
      "text/plain": [
       "float"
      ]
     },
     "execution_count": 6,
     "metadata": {
      "tags": []
     },
     "output_type": "execute_result"
    }
   ],
   "source": [
    "b = 10.0 # b is a float\n",
    "\n",
    "type(b)"
   ]
  },
  {
   "cell_type": "markdown",
   "metadata": {
    "colab_type": "text",
    "id": "hz4fsJpTVbdK"
   },
   "source": [
    "### String"
   ]
  },
  {
   "cell_type": "markdown",
   "metadata": {
    "colab_type": "text",
    "id": "BCZGz9IcVQ2t"
   },
   "source": [
    "Enclosed by a pair of single (‘string’) or double (“string”) quotation marks"
   ]
  },
  {
   "cell_type": "code",
   "execution_count": null,
   "metadata": {
    "colab": {
     "base_uri": "https://localhost:8080/",
     "height": 34
    },
    "colab_type": "code",
    "id": "am7g9y8O5OJm",
    "outputId": "6c27f65e-d2a6-4fd2-afbd-a8b22f0bffaa"
   },
   "outputs": [
    {
     "data": {
      "text/plain": [
       "str"
      ]
     },
     "execution_count": 7,
     "metadata": {
      "tags": []
     },
     "output_type": "execute_result"
    }
   ],
   "source": [
    "c = \"Hello world\" # c is a String\n",
    "\n",
    "type(c)"
   ]
  },
  {
   "cell_type": "markdown",
   "metadata": {
    "colab_type": "text",
    "id": "4EFYFouzVeHG"
   },
   "source": [
    "### List"
   ]
  },
  {
   "cell_type": "markdown",
   "metadata": {
    "colab_type": "text",
    "id": "FRaNuZNrWNDa"
   },
   "source": [
    "Ordered – Access individual items using indices\n",
    "\n",
    "Mixed Data Type allowed\n"
   ]
  },
  {
   "cell_type": "code",
   "execution_count": null,
   "metadata": {
    "colab": {
     "base_uri": "https://localhost:8080/",
     "height": 34
    },
    "colab_type": "code",
    "id": "DlRNWw3h5PSF",
    "outputId": "a45b0bf5-f212-408b-9e62-cceca883a436"
   },
   "outputs": [
    {
     "data": {
      "text/plain": [
       "list"
      ]
     },
     "execution_count": 8,
     "metadata": {
      "tags": []
     },
     "output_type": "execute_result"
    }
   ],
   "source": [
    "d = [\"apple\", \"banana\", \"cherry\"] # d is a list\n",
    "\n",
    "type(d)"
   ]
  },
  {
   "cell_type": "markdown",
   "metadata": {
    "colab_type": "text",
    "id": "ptJLia2pVgEe"
   },
   "source": [
    "### Tuple"
   ]
  },
  {
   "cell_type": "markdown",
   "metadata": {
    "colab_type": "text",
    "id": "hDJvraJgWUyY"
   },
   "source": [
    "Mostly same as list\n",
    "\n",
    "Difference: reassignment or deletion of individual items NOT allowed (Immutable)\n"
   ]
  },
  {
   "cell_type": "code",
   "execution_count": null,
   "metadata": {
    "colab": {
     "base_uri": "https://localhost:8080/",
     "height": 34
    },
    "colab_type": "code",
    "id": "JcYynYOy5QPk",
    "outputId": "0cfa9c3e-ccbf-4b04-cc06-12231fbd62ac"
   },
   "outputs": [
    {
     "data": {
      "text/plain": [
       "tuple"
      ]
     },
     "execution_count": 9,
     "metadata": {
      "tags": []
     },
     "output_type": "execute_result"
    }
   ],
   "source": [
    "e = (\"apple\", \"banana\", \"cherry\") # e is a tuple\n",
    "\n",
    "type(e)"
   ]
  },
  {
   "cell_type": "markdown",
   "metadata": {
    "colab_type": "text",
    "id": "e5I9eqsfViA0"
   },
   "source": [
    "### Range"
   ]
  },
  {
   "cell_type": "code",
   "execution_count": null,
   "metadata": {
    "colab": {
     "base_uri": "https://localhost:8080/",
     "height": 34
    },
    "colab_type": "code",
    "id": "-ga3TaFU5RMc",
    "outputId": "5dabdd02-7020-4cc4-efaf-f8bd3698a4e3"
   },
   "outputs": [
    {
     "data": {
      "text/plain": [
       "range"
      ]
     },
     "execution_count": 10,
     "metadata": {
      "tags": []
     },
     "output_type": "execute_result"
    }
   ],
   "source": [
    "f = range(10) # f is a range from 0 to 9 \n",
    "f = range(0, 10) # is the same as the previous one, when start index = 0, it can be emitted\n",
    "\n",
    "type(f)"
   ]
  },
  {
   "cell_type": "markdown",
   "metadata": {
    "colab_type": "text",
    "id": "HVuQh6vqVjrl"
   },
   "source": [
    "### Dictionary"
   ]
  },
  {
   "cell_type": "markdown",
   "metadata": {
    "colab_type": "text",
    "id": "FFWWDsamWdbM"
   },
   "source": [
    "Hold key-value pairs\n",
    "\n",
    "Unordered – Access values using keys"
   ]
  },
  {
   "cell_type": "code",
   "execution_count": null,
   "metadata": {
    "colab": {
     "base_uri": "https://localhost:8080/",
     "height": 51
    },
    "colab_type": "code",
    "id": "hGqLlxW95SMb",
    "outputId": "f2ea2068-8846-4f7f-e89a-62d6c0943173"
   },
   "outputs": [
    {
     "name": "stdout",
     "output_type": "stream",
     "text": [
      "John\n"
     ]
    },
    {
     "data": {
      "text/plain": [
       "dict"
      ]
     },
     "execution_count": 12,
     "metadata": {
      "tags": []
     },
     "output_type": "execute_result"
    }
   ],
   "source": [
    "g = {\"name\" : \"John\", \"age\" : 36} # g is a dict\n",
    "print(g[\"name\"])\n",
    "type(g)"
   ]
  },
  {
   "cell_type": "markdown",
   "metadata": {
    "colab_type": "text",
    "id": "lNymaZMlVsL6"
   },
   "source": [
    "### Set"
   ]
  },
  {
   "cell_type": "markdown",
   "metadata": {
    "colab_type": "text",
    "id": "bhUoZWNCWnOx"
   },
   "source": [
    "No duplicate values – Individual items are unique\n",
    "\n",
    "Unordered"
   ]
  },
  {
   "cell_type": "code",
   "execution_count": null,
   "metadata": {
    "colab": {},
    "colab_type": "code",
    "id": "oHzCkgqK5TDO"
   },
   "outputs": [],
   "source": [
    "h = {\"apple\", \"banana\", \"cherry\"} # h is a set\n",
    "\n",
    "type(h)"
   ]
  },
  {
   "cell_type": "markdown",
   "metadata": {
    "colab_type": "text",
    "id": "oJ4VZouCVuMR"
   },
   "source": [
    "### Frozenset"
   ]
  },
  {
   "cell_type": "code",
   "execution_count": null,
   "metadata": {
    "colab": {},
    "colab_type": "code",
    "id": "9ukACXrp5T3l"
   },
   "outputs": [],
   "source": [
    "i = frozenset({\"apple\", \"banana\", \"cherry\"}) # i is a frozenset\n",
    "\n",
    "type(i)"
   ]
  },
  {
   "cell_type": "markdown",
   "metadata": {
    "colab_type": "text",
    "id": "7tuOEDK_WAjt"
   },
   "source": [
    "### Boolean"
   ]
  },
  {
   "cell_type": "markdown",
   "metadata": {
    "colab_type": "text",
    "id": "Nmw9Nh0jWCwV"
   },
   "source": [
    "Two possible values: True, False"
   ]
  },
  {
   "cell_type": "code",
   "execution_count": null,
   "metadata": {
    "colab": {
     "base_uri": "https://localhost:8080/",
     "height": 51
    },
    "colab_type": "code",
    "id": "lmahsBqk5UvQ",
    "outputId": "f8753417-222d-46fa-df65-9b3580a9ed79"
   },
   "outputs": [
    {
     "name": "stdout",
     "output_type": "stream",
     "text": [
      "False\n"
     ]
    },
    {
     "data": {
      "text/plain": [
       "bool"
      ]
     },
     "execution_count": 14,
     "metadata": {
      "tags": []
     },
     "output_type": "execute_result"
    }
   ],
   "source": [
    "j = True # j is a boolean with value of True\n",
    "j = not j\n",
    "print(j)\n",
    "type(j)"
   ]
  },
  {
   "cell_type": "markdown",
   "metadata": {
    "colab_type": "text",
    "id": "hRHyKYt2Of2j"
   },
   "source": [
    "## Basic Operations"
   ]
  },
  {
   "cell_type": "code",
   "execution_count": null,
   "metadata": {
    "colab": {
     "base_uri": "https://localhost:8080/",
     "height": 34
    },
    "colab_type": "code",
    "id": "nfwYlhDmRiZ2",
    "outputId": "be046e3b-41b5-4837-b2c8-87400be302dc"
   },
   "outputs": [
    {
     "data": {
      "text/plain": [
       "(13, 7, 30, 3.3333333333333335, 1, 1000, 3)"
      ]
     },
     "execution_count": 15,
     "metadata": {
      "tags": []
     },
     "output_type": "execute_result"
    }
   ],
   "source": [
    "# + - * / % ** //\n",
    "x, y = 10, 3\n",
    "x + y, x - y, x * y, x / y, x % y, x ** y, x // y"
   ]
  },
  {
   "cell_type": "code",
   "execution_count": null,
   "metadata": {
    "colab": {
     "base_uri": "https://localhost:8080/",
     "height": 119
    },
    "colab_type": "code",
    "id": "qU7ne5R9R87_",
    "outputId": "d0ccffdd-e205-453e-caa1-45a59f6b896e"
   },
   "outputs": [
    {
     "name": "stdout",
     "output_type": "stream",
     "text": [
      "16\n",
      "13\n",
      "39\n",
      "13.0\n",
      "1.0\n",
      "0.0\n"
     ]
    }
   ],
   "source": [
    "#+= -= *= /= %= //= \n",
    "x, y = 10, 3\n",
    "x +=y \n",
    "x = x + y\n",
    "print(x)\n",
    "\n",
    "x -=y\n",
    "print(x)\n",
    "\n",
    "x *= y\n",
    "print(x)\n",
    "\n",
    "x /= y\n",
    "print(x)\n",
    "\n",
    "x %= y\n",
    "print(x)\n",
    "\n",
    "x //= y\n",
    "print(x)"
   ]
  },
  {
   "cell_type": "code",
   "execution_count": null,
   "metadata": {
    "colab": {
     "base_uri": "https://localhost:8080/",
     "height": 34
    },
    "colab_type": "code",
    "id": "sWmzIaCBOnYM",
    "outputId": "f7b1ad62-728a-4f3b-fc2f-6218987c36ca"
   },
   "outputs": [
    {
     "data": {
      "text/plain": [
       "(False, False, True, True)"
      ]
     },
     "execution_count": 17,
     "metadata": {
      "tags": []
     },
     "output_type": "execute_result"
    }
   ],
   "source": [
    "# == > < != \n",
    "x, y = 1, 2\n",
    "x == y, x > y, x < y, x != y"
   ]
  },
  {
   "cell_type": "code",
   "execution_count": null,
   "metadata": {
    "colab": {
     "base_uri": "https://localhost:8080/",
     "height": 51
    },
    "colab_type": "code",
    "id": "Nf3EkUJDhuot",
    "outputId": "f0448545-cbfc-43d5-9839-95a0910e4dc4"
   },
   "outputs": [
    {
     "name": "stdout",
     "output_type": "stream",
     "text": [
      "False\n",
      "True\n"
     ]
    }
   ],
   "source": [
    "# in, not in\n",
    "x = [\"apple\", \"banana\"]\n",
    "\n",
    "print(\"z\" in x)\n",
    "\n",
    "y = \"test\"\n",
    "\n",
    "print(\"e\" in y)"
   ]
  },
  {
   "cell_type": "markdown",
   "metadata": {
    "colab_type": "text",
    "id": "9dXYImPvpC4D"
   },
   "source": [
    "## List\n",
    "![image.png](data:image/png;base64,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)"
   ]
  },
  {
   "cell_type": "markdown",
   "metadata": {
    "colab_type": "text",
    "id": "ObKNFXv5XO4m"
   },
   "source": [
    "Ordered collection of data\n",
    "\n",
    "Use index to access, reassign or delete items"
   ]
  },
  {
   "cell_type": "code",
   "execution_count": null,
   "metadata": {
    "colab": {},
    "colab_type": "code",
    "id": "VooLIy2OpGkF"
   },
   "outputs": [],
   "source": [
    "d = [\"apple\", \"banana\", \"cherry\"] # d is a list"
   ]
  },
  {
   "cell_type": "markdown",
   "metadata": {
    "colab_type": "text",
    "id": "IBV84ljYq4BG"
   },
   "source": [
    "### Access element \n",
    "Access element in list by index list[index]"
   ]
  },
  {
   "cell_type": "code",
   "execution_count": null,
   "metadata": {
    "colab": {
     "base_uri": "https://localhost:8080/",
     "height": 34
    },
    "colab_type": "code",
    "id": "L_dhcMtspRcx",
    "outputId": "501e5460-7d65-408f-9e53-bf318aa99974"
   },
   "outputs": [
    {
     "name": "stdout",
     "output_type": "stream",
     "text": [
      "cherry\n"
     ]
    }
   ],
   "source": [
    "# Access element in list by index list[index]\n",
    "print(d[2])"
   ]
  },
  {
   "cell_type": "markdown",
   "metadata": {
    "colab_type": "text",
    "id": "2Fm0Y01TrAy9"
   },
   "source": [
    "### negative index\n",
    "Access element in list by index list[index] where index is a negative number, e.g: -1 means the last element of the list"
   ]
  },
  {
   "cell_type": "code",
   "execution_count": null,
   "metadata": {
    "colab": {
     "base_uri": "https://localhost:8080/",
     "height": 34
    },
    "colab_type": "code",
    "id": "VpSiayjrrCSb",
    "outputId": "721c7ed8-763a-4b87-ca6d-f6152c415468"
   },
   "outputs": [
    {
     "name": "stdout",
     "output_type": "stream",
     "text": [
      "cherry\n"
     ]
    }
   ],
   "source": [
    "print(d[-1])"
   ]
  },
  {
   "cell_type": "markdown",
   "metadata": {
    "colab_type": "text",
    "id": "ptEhG2msrKJ7"
   },
   "source": [
    "### range of index\n",
    "Get sublist of a list by list[startIndex:endIndex] (element at endIndex not included)"
   ]
  },
  {
   "cell_type": "markdown",
   "metadata": {
    "colab_type": "text",
    "id": "zo9vjjcrsIAR"
   },
   "source": [
    "This example returns the items from index 2 (included) to index 5 (excluded)"
   ]
  },
  {
   "cell_type": "code",
   "execution_count": null,
   "metadata": {
    "colab": {
     "base_uri": "https://localhost:8080/",
     "height": 34
    },
    "colab_type": "code",
    "id": "HdyralqyrLcN",
    "outputId": "0342a3d2-f1a3-4fca-c504-2d8297fbabd2"
   },
   "outputs": [
    {
     "name": "stdout",
     "output_type": "stream",
     "text": [
      "['cherry', 'orange', 'kiwi', 'melon']\n"
     ]
    }
   ],
   "source": [
    "thislist = [\"apple\", \"banana\", \"cherry\", \"orange\", \"kiwi\", \"melon\", \"mango\"]\n",
    "print(thislist[2:6])"
   ]
  },
  {
   "cell_type": "markdown",
   "metadata": {
    "colab_type": "text",
    "id": "8OKAx2JmsBVd"
   },
   "source": [
    "This example returns the items from index -4 (included) to index -1 (excluded)"
   ]
  },
  {
   "cell_type": "code",
   "execution_count": null,
   "metadata": {
    "colab": {
     "base_uri": "https://localhost:8080/",
     "height": 34
    },
    "colab_type": "code",
    "id": "KN4zpMJvr-na",
    "outputId": "c7d4de02-bcf6-4b89-f14e-adae3622afe7"
   },
   "outputs": [
    {
     "name": "stdout",
     "output_type": "stream",
     "text": [
      "['orange', 'kiwi', 'melon']\n"
     ]
    }
   ],
   "source": [
    "thislist = [\"apple\", \"banana\", \"cherry\", \"orange\", \"kiwi\", \"melon\", \"mango\"]\n",
    "print(thislist[-4:-1])"
   ]
  },
  {
   "cell_type": "markdown",
   "metadata": {
    "colab_type": "text",
    "id": "l4EVR52EsQcV"
   },
   "source": [
    "### Change Item Value"
   ]
  },
  {
   "cell_type": "markdown",
   "metadata": {
    "colab_type": "text",
    "id": "_T0I6kRzsYyt"
   },
   "source": [
    "To change the value of a specific item, refer to the index number: list[index] = newValue"
   ]
  },
  {
   "cell_type": "code",
   "execution_count": null,
   "metadata": {
    "colab": {
     "base_uri": "https://localhost:8080/",
     "height": 34
    },
    "colab_type": "code",
    "id": "w60ROG-UsRba",
    "outputId": "48a4352c-6832-4a2c-ff86-0efb757dce01"
   },
   "outputs": [
    {
     "name": "stdout",
     "output_type": "stream",
     "text": [
      "['apple', 'kiwi', 'cherry']\n"
     ]
    }
   ],
   "source": [
    "thislist = [\"apple\", \"banana\", \"cherry\"]\n",
    "thislist[1] = \"kiwi\"\n",
    "print(thislist)"
   ]
  },
  {
   "cell_type": "markdown",
   "metadata": {
    "colab_type": "text",
    "id": "lqHK-tkrDdZw"
   },
   "source": [
    "### Add Items"
   ]
  },
  {
   "cell_type": "markdown",
   "metadata": {
    "colab_type": "text",
    "id": "AcqDfxwRDoI8"
   },
   "source": [
    "To add an item to the end of the list, use the append() method:"
   ]
  },
  {
   "cell_type": "code",
   "execution_count": null,
   "metadata": {
    "colab": {
     "base_uri": "https://localhost:8080/",
     "height": 34
    },
    "colab_type": "code",
    "id": "T03KE02fDeW7",
    "outputId": "16452044-56fe-4a5a-d198-d8f084ff7ad3"
   },
   "outputs": [
    {
     "name": "stdout",
     "output_type": "stream",
     "text": [
      "['apple', 'banana', 'cherry', 'orange']\n"
     ]
    }
   ],
   "source": [
    "thislist = [\"apple\", \"banana\", \"cherry\"]\n",
    "thislist.append(\"orange\")\n",
    "print(thislist)"
   ]
  },
  {
   "cell_type": "markdown",
   "metadata": {
    "colab_type": "text",
    "id": "ZbisR5INDsAR"
   },
   "source": [
    "To add an item at the specified index, use the insert() method:"
   ]
  },
  {
   "cell_type": "code",
   "execution_count": null,
   "metadata": {
    "colab": {
     "base_uri": "https://localhost:8080/",
     "height": 34
    },
    "colab_type": "code",
    "id": "KBWtUSSvDsnj",
    "outputId": "4d03a760-231f-43eb-8b83-b28bb338dcdd"
   },
   "outputs": [
    {
     "name": "stdout",
     "output_type": "stream",
     "text": [
      "['apple', 'orange', 'banana', 'cherry']\n"
     ]
    }
   ],
   "source": [
    "thislist = [\"apple\", \"banana\", \"cherry\"]\n",
    "thislist.insert(1, \"orange\")\n",
    "print(thislist)"
   ]
  },
  {
   "cell_type": "markdown",
   "metadata": {
    "colab_type": "text",
    "id": "mt5HZC1tsf0u"
   },
   "source": [
    "### Loop Through a List"
   ]
  },
  {
   "cell_type": "markdown",
   "metadata": {
    "colab_type": "text",
    "id": "xZnfPTXNslt9"
   },
   "source": [
    "You can loop through the list items by using a for loop:"
   ]
  },
  {
   "cell_type": "code",
   "execution_count": null,
   "metadata": {
    "colab": {
     "base_uri": "https://localhost:8080/",
     "height": 68
    },
    "colab_type": "code",
    "id": "0JXj2xCIsgps",
    "outputId": "9f5a66be-7b8b-4b32-df17-bbb84685189e"
   },
   "outputs": [
    {
     "name": "stdout",
     "output_type": "stream",
     "text": [
      "apple\n",
      "banana\n",
      "cherry\n"
     ]
    }
   ],
   "source": [
    "thislist = [\"apple\", \"banana\", \"cherry\"]\n",
    "for fruit in thislist:\n",
    "  print(fruit)"
   ]
  },
  {
   "cell_type": "markdown",
   "metadata": {
    "colab_type": "text",
    "id": "76T_gfF5spHe"
   },
   "source": [
    "### Check if Item Exists"
   ]
  },
  {
   "cell_type": "markdown",
   "metadata": {
    "colab_type": "text",
    "id": "KfYl1KVQst3T"
   },
   "source": [
    "To determine if a specified item is present in a list use the in keyword:"
   ]
  },
  {
   "cell_type": "code",
   "execution_count": null,
   "metadata": {
    "colab": {
     "base_uri": "https://localhost:8080/",
     "height": 34
    },
    "colab_type": "code",
    "id": "Z-UGrujZsqUc",
    "outputId": "841a378b-ec0a-4ec2-f975-8e791a25a7f5"
   },
   "outputs": [
    {
     "name": "stdout",
     "output_type": "stream",
     "text": [
      "Yes, 'apple' is in the fruits list\n"
     ]
    }
   ],
   "source": [
    "thislist = [\"apple\", \"banana\", \"cherry\"]\n",
    "if \"apple\" in thislist:\n",
    "  print(\"Yes, 'apple' is in the fruits list\")"
   ]
  },
  {
   "cell_type": "markdown",
   "metadata": {
    "colab_type": "text",
    "id": "fuAFIfBGtU_w"
   },
   "source": [
    "### List Length"
   ]
  },
  {
   "cell_type": "code",
   "execution_count": null,
   "metadata": {
    "colab": {
     "base_uri": "https://localhost:8080/",
     "height": 34
    },
    "colab_type": "code",
    "id": "KmNiWtK4tV9G",
    "outputId": "2cc9f337-e350-4c91-8b64-1cba55aa919d"
   },
   "outputs": [
    {
     "name": "stdout",
     "output_type": "stream",
     "text": [
      "3\n"
     ]
    }
   ],
   "source": [
    "thislist = [\"apple\", \"banana\", \"cherry\"]\n",
    "print(len(thislist))"
   ]
  },
  {
   "cell_type": "markdown",
   "metadata": {
    "colab_type": "text",
    "id": "T9LayJx9tc4w"
   },
   "source": [
    "### Concatenation"
   ]
  },
  {
   "cell_type": "markdown",
   "metadata": {
    "colab_type": "text",
    "id": "UFdcPai-tp90"
   },
   "source": [
    "You can + operator to concatenate 2 lists together"
   ]
  },
  {
   "cell_type": "code",
   "execution_count": null,
   "metadata": {
    "colab": {
     "base_uri": "https://localhost:8080/",
     "height": 34
    },
    "colab_type": "code",
    "id": "pZ2GPQ7kteXS",
    "outputId": "71a63cb8-ef88-46fa-ed4c-2efe31640dd4"
   },
   "outputs": [
    {
     "data": {
      "text/plain": [
       "[1, 2, 3, 4, 5, 6]"
      ]
     },
     "execution_count": 36,
     "metadata": {
      "tags": []
     },
     "output_type": "execute_result"
    }
   ],
   "source": [
    "[1, 2, 3] + [4, 5, 6]"
   ]
  },
  {
   "cell_type": "markdown",
   "metadata": {
    "colab_type": "text",
    "id": "sm6r_mHnt57e"
   },
   "source": [
    "### max & min"
   ]
  },
  {
   "cell_type": "markdown",
   "metadata": {
    "colab_type": "text",
    "id": "OM0aASRGt7kA"
   },
   "source": [
    "max(list) Returns item from the list with max value."
   ]
  },
  {
   "cell_type": "code",
   "execution_count": null,
   "metadata": {
    "colab": {
     "base_uri": "https://localhost:8080/",
     "height": 51
    },
    "colab_type": "code",
    "id": "9Iv1EB6Ct-lA",
    "outputId": "5dc01d43-5912-4dfb-b862-686358999ff2"
   },
   "outputs": [
    {
     "name": "stdout",
     "output_type": "stream",
     "text": [
      "zara\n",
      "700\n"
     ]
    }
   ],
   "source": [
    "list1, list2 = ['xyz', 'zara', 'abc'], [456, 700, 200]\n",
    "print(max(list1))\n",
    "print(max(list2))"
   ]
  },
  {
   "cell_type": "markdown",
   "metadata": {
    "colab_type": "text",
    "id": "hU5PZv1VupHy"
   },
   "source": [
    "min(list) Returns item from the list with min value."
   ]
  },
  {
   "cell_type": "code",
   "execution_count": null,
   "metadata": {
    "colab": {
     "base_uri": "https://localhost:8080/",
     "height": 51
    },
    "colab_type": "code",
    "id": "7CZSYq4xum3g",
    "outputId": "66a63a12-b421-490c-fc6a-883d29f0f335"
   },
   "outputs": [
    {
     "name": "stdout",
     "output_type": "stream",
     "text": [
      "abc\n",
      "200\n"
     ]
    }
   ],
   "source": [
    "list1, list2 = ['xyz', 'zara', 'abc'], [456, 700, 200]\n",
    "print(min(list1))\n",
    "print(min(list2))"
   ]
  },
  {
   "cell_type": "markdown",
   "metadata": {
    "colab_type": "text",
    "id": "Ut5IbBqBu8JD"
   },
   "source": [
    "### sort"
   ]
  },
  {
   "cell_type": "markdown",
   "metadata": {
    "colab_type": "text",
    "id": "iDwv0RQQvjcK"
   },
   "source": [
    "list.sort(reverse=True|False, key=myFunc)"
   ]
  },
  {
   "cell_type": "code",
   "execution_count": null,
   "metadata": {
    "colab": {
     "base_uri": "https://localhost:8080/",
     "height": 34
    },
    "colab_type": "code",
    "id": "pLLnZzWnu9NR",
    "outputId": "264a9fcd-4eb2-4fc2-fbc4-0b81b0f150f8"
   },
   "outputs": [
    {
     "name": "stdout",
     "output_type": "stream",
     "text": [
      "[12, 34, 100]\n"
     ]
    }
   ],
   "source": [
    "numbers = [100, 12, 34]\n",
    "\n",
    "numbers.sort()\n",
    "print(numbers)"
   ]
  },
  {
   "cell_type": "code",
   "execution_count": null,
   "metadata": {
    "colab": {
     "base_uri": "https://localhost:8080/",
     "height": 34
    },
    "colab_type": "code",
    "id": "O10N-lbdvv5a",
    "outputId": "de561ba6-282e-4fcf-b2ba-e2174d855e47"
   },
   "outputs": [
    {
     "name": "stdout",
     "output_type": "stream",
     "text": [
      "[100, 34, 12]\n"
     ]
    }
   ],
   "source": [
    "numbers = [100, 12, 34]\n",
    "\n",
    "numbers.sort(reverse=True)\n",
    "print(numbers)"
   ]
  },
  {
   "cell_type": "code",
   "execution_count": null,
   "metadata": {
    "colab": {
     "base_uri": "https://localhost:8080/",
     "height": 34
    },
    "colab_type": "code",
    "id": "zauZCBSqv2Au",
    "outputId": "f5ccfb77-51fe-40fa-d5dc-653820408e78"
   },
   "outputs": [
    {
     "name": "stdout",
     "output_type": "stream",
     "text": [
      "['VW', 'BMW', 'Ford', 'Mitsubishi']\n"
     ]
    }
   ],
   "source": [
    "# A function that returns the length of the value:\n",
    "def myFunc(e):\n",
    "  return len(e)\n",
    "\n",
    "cars = ['Ford', 'Mitsubishi', 'BMW', 'VW']\n",
    "\n",
    "cars.sort(key=myFunc)\n",
    "print(cars)"
   ]
  },
  {
   "cell_type": "code",
   "execution_count": null,
   "metadata": {
    "colab": {
     "base_uri": "https://localhost:8080/",
     "height": 34
    },
    "colab_type": "code",
    "id": "3aMv3P5bv99w",
    "outputId": "5d2a9e99-75eb-4c4a-82a6-763e68464a3c"
   },
   "outputs": [
    {
     "name": "stdout",
     "output_type": "stream",
     "text": [
      "[{'car': 'Mitsubishi', 'year': 2000}, {'car': 'Ford', 'year': 2005}, {'car': 'VW', 'year': 2011}, {'car': 'BMW', 'year': 2019}]\n"
     ]
    }
   ],
   "source": [
    "# A function that returns the 'year' value:\n",
    "def myFunc(e):\n",
    "  return e['year']\n",
    "\n",
    "cars = [\n",
    "  {'car': 'Ford', 'year': 2005},\n",
    "  {'car': 'Mitsubishi', 'year': 2000},\n",
    "  {'car': 'BMW', 'year': 2019},\n",
    "  {'car': 'VW', 'year': 2011}\n",
    "]\n",
    "\n",
    "cars.sort(key=myFunc)\n",
    "print(cars)"
   ]
  },
  {
   "cell_type": "markdown",
   "metadata": {
    "colab_type": "text",
    "id": "svn_B5R8wcpO"
   },
   "source": [
    "### Exercise"
   ]
  },
  {
   "cell_type": "markdown",
   "metadata": {
    "colab_type": "text",
    "id": "BMAofWUqwej6"
   },
   "source": [
    "Find the common elements in list_a & list_b"
   ]
  },
  {
   "cell_type": "code",
   "execution_count": null,
   "metadata": {
    "colab": {},
    "colab_type": "code",
    "id": "05fTIFbnwmjp"
   },
   "outputs": [],
   "source": [
    "list_a = [1, 2, 3, 4]\n",
    "list_b = [2, 3, 4, 5]\n",
    "\n",
    "common_num = []\n",
    "# Expected Output [2, 3, 4]"
   ]
  },
  {
   "cell_type": "code",
   "execution_count": null,
   "metadata": {
    "colab": {
     "base_uri": "https://localhost:8080/",
     "height": 34
    },
    "colab_type": "code",
    "id": "GNRdENISw2lX",
    "outputId": "bc1d78fb-4e53-4d95-afc6-348817c0f6e6"
   },
   "outputs": [
    {
     "name": "stdout",
     "output_type": "stream",
     "text": [
      "[2, 3, 4]\n"
     ]
    }
   ],
   "source": [
    "# Write your solution\n",
    "for a in list_a:\n",
    "  for b in list_b:\n",
    "    if a == b:\n",
    "      common_num.append(a)\n",
    "      \n",
    "print(common_num)  # Output [2, 3, 4]"
   ]
  },
  {
   "cell_type": "markdown",
   "metadata": {
    "colab_type": "text",
    "id": "fMByMu3jT_MB"
   },
   "source": [
    "## Control Flow\n"
   ]
  },
  {
   "cell_type": "markdown",
   "metadata": {
    "colab_type": "text",
    "id": "TEYYOqAsqpiQ"
   },
   "source": [
    "### conditional expressions"
   ]
  },
  {
   "cell_type": "code",
   "execution_count": null,
   "metadata": {
    "colab": {},
    "colab_type": "code",
    "id": "XVTPmapP6GNn"
   },
   "outputs": [],
   "source": [
    "a = 200\n",
    "b = 33\n",
    "if b < a:\n",
    "  print(\"b is greater than a\")"
   ]
  },
  {
   "cell_type": "code",
   "execution_count": null,
   "metadata": {
    "colab": {},
    "colab_type": "code",
    "id": "WLb8KvMvUdUy"
   },
   "outputs": [],
   "source": [
    "# if elif else\n",
    "a = 200\n",
    "b = 33\n",
    "\n",
    "if b > a:\n",
    "  print(\"b is greater than a\")\n",
    "elif a == b:\n",
    "  print(\"a and b are equal\")\n",
    "else:\n",
    "  print(\"a is greater than b\")"
   ]
  },
  {
   "cell_type": "code",
   "execution_count": null,
   "metadata": {
    "colab": {},
    "colab_type": "code",
    "id": "wEigWcBfUtSQ"
   },
   "outputs": [],
   "source": [
    "# Short Hand If\n",
    "if a > b: print(\"a is greater than b\")"
   ]
  },
  {
   "cell_type": "code",
   "execution_count": null,
   "metadata": {
    "colab": {},
    "colab_type": "code",
    "id": "IxoX0bzXUvQ5"
   },
   "outputs": [],
   "source": [
    "# Short Hand If ... Else\n",
    "a = 2\n",
    "b = 330\n",
    "print(\"A\") if a > b else print(\"B\")"
   ]
  },
  {
   "cell_type": "markdown",
   "metadata": {
    "colab_type": "text",
    "id": "Lvi30NnfU1nd"
   },
   "source": [
    "### Indefinite Iteration\n"
   ]
  },
  {
   "cell_type": "code",
   "execution_count": null,
   "metadata": {
    "colab": {},
    "colab_type": "code",
    "id": "FhzfDGVR6gth"
   },
   "outputs": [],
   "source": [
    "i = 1\n",
    "while i < 6:\n",
    "  print(i)\n",
    "  i += 1"
   ]
  },
  {
   "cell_type": "code",
   "execution_count": null,
   "metadata": {
    "colab": {},
    "colab_type": "code",
    "id": "lp_9zuW1VAvl"
   },
   "outputs": [],
   "source": [
    "i = 1\n",
    "while i < 6:\n",
    "  print(i)\n",
    "  i += 1\n",
    "else:\n",
    "  print(\"i is no longer less than 6\")"
   ]
  },
  {
   "cell_type": "markdown",
   "metadata": {
    "colab_type": "text",
    "id": "LUB62qECVJv7"
   },
   "source": [
    "### Definite Iteration"
   ]
  },
  {
   "cell_type": "code",
   "execution_count": null,
   "metadata": {
    "colab": {},
    "colab_type": "code",
    "id": "szhIUQJtVKzw"
   },
   "outputs": [],
   "source": [
    "fruits = [\"apple\", \"banana\", \"cherry\"]\n",
    "for x in fruits:\n",
    "  print(x)"
   ]
  },
  {
   "cell_type": "code",
   "execution_count": null,
   "metadata": {
    "colab": {},
    "colab_type": "code",
    "id": "JAz9DIXYVRcF"
   },
   "outputs": [],
   "source": [
    "for x in \"banana\":\n",
    "  print(x)"
   ]
  },
  {
   "cell_type": "code",
   "execution_count": null,
   "metadata": {
    "colab": {},
    "colab_type": "code",
    "id": "2s4KonBdVVMi"
   },
   "outputs": [],
   "source": [
    "for x in range(6):\n",
    "  print(x)"
   ]
  },
  {
   "cell_type": "markdown",
   "metadata": {
    "colab_type": "text",
    "id": "HdBzTrrRxj8u"
   },
   "source": [
    "### Exercise"
   ]
  },
  {
   "cell_type": "markdown",
   "metadata": {
    "colab_type": "text",
    "id": "lAzUuLOpx9dr"
   },
   "source": [
    "Given a list numbers = [1, 2, 3, 4, 5, 6, 7, 8, 9]\n",
    "Output the number of even numbers and odd numbers"
   ]
  },
  {
   "cell_type": "code",
   "execution_count": null,
   "metadata": {
    "colab": {},
    "colab_type": "code",
    "id": "mtYrKP99yPbM"
   },
   "outputs": [],
   "source": [
    "# Write your solution"
   ]
  },
  {
   "cell_type": "markdown",
   "metadata": {
    "colab_type": "text",
    "id": "geEBCNM9VlW5"
   },
   "source": [
    "## Functions\n"
   ]
  },
  {
   "cell_type": "code",
   "execution_count": null,
   "metadata": {
    "colab": {},
    "colab_type": "code",
    "id": "WnpTWhOBVqRV"
   },
   "outputs": [],
   "source": [
    "def my_function():\n",
    "  print(\"Hello from a function\")\n",
    "\n",
    "my_function()"
   ]
  },
  {
   "cell_type": "code",
   "execution_count": null,
   "metadata": {
    "colab": {},
    "colab_type": "code",
    "id": "n8QP_Zow7DfC"
   },
   "outputs": [],
   "source": [
    "def add(a,b):\n",
    "  return a+b\n",
    "\n",
    "print(add(2,5))"
   ]
  },
  {
   "cell_type": "markdown",
   "metadata": {
    "colab_type": "text",
    "id": "yT090-ExVf-B"
   },
   "source": [
    "## Lambda function"
   ]
  },
  {
   "cell_type": "code",
   "execution_count": null,
   "metadata": {
    "colab": {},
    "colab_type": "code",
    "id": "dyL6BJeQWSbw"
   },
   "outputs": [],
   "source": [
    "# Use lambda functions when an anonymous function is required for a short period of time.\n",
    "x = lambda a : a + 10\n",
    "print(x(5))"
   ]
  },
  {
   "cell_type": "code",
   "execution_count": null,
   "metadata": {
    "colab": {},
    "colab_type": "code",
    "id": "XrVXNcSsWXvJ"
   },
   "outputs": [],
   "source": [
    "x = lambda a, b, c : a + b + c\n",
    "print(x(5, 6, 2))"
   ]
  },
  {
   "cell_type": "markdown",
   "metadata": {
    "colab_type": "text",
    "id": "Uv15pXIlYFrR"
   },
   "source": [
    "## Map & filter"
   ]
  },
  {
   "cell_type": "code",
   "execution_count": null,
   "metadata": {
    "colab": {},
    "colab_type": "code",
    "id": "48m422qTYImI"
   },
   "outputs": [],
   "source": [
    "items = [1, 2, 3, 4, 5]\n",
    "squared = []\n",
    "for i in items:\n",
    "    squared.append(i**2)"
   ]
  },
  {
   "cell_type": "markdown",
   "metadata": {
    "colab_type": "text",
    "id": "eYV2NUgEX2Fk"
   },
   "source": [
    "Map applies a function to all the items in an input_list"
   ]
  },
  {
   "cell_type": "code",
   "execution_count": null,
   "metadata": {
    "colab": {},
    "colab_type": "code",
    "id": "wY_ez-c8YMkz"
   },
   "outputs": [],
   "source": [
    "items = [1, 2, 3, 4, 5]\n",
    "squared = list(map(lambda x: x**2, items))\n",
    "print(squared)"
   ]
  },
  {
   "cell_type": "markdown",
   "metadata": {
    "colab_type": "text",
    "id": "RLN5Y0BqYIsx"
   },
   "source": [
    "Filter creates a list of elements for which a function returns true"
   ]
  },
  {
   "cell_type": "code",
   "execution_count": null,
   "metadata": {
    "colab": {},
    "colab_type": "code",
    "id": "ghZ4QQqEYYt1"
   },
   "outputs": [],
   "source": [
    "number_list = range(-5, 5)\n",
    "less_than_zero = list(filter(lambda x: x < 0, number_list))\n",
    "print(less_than_zero)\n",
    "\n",
    "# Output: [-5, -4, -3, -2, -1]"
   ]
  },
  {
   "cell_type": "markdown",
   "metadata": {
    "colab_type": "text",
    "id": "MCHqzWQAFyKw"
   },
   "source": [
    "## List Comprehension"
   ]
  },
  {
   "cell_type": "markdown",
   "metadata": {
    "colab_type": "text",
    "id": "KocOob9F1WmI"
   },
   "source": [
    "List comprehensions provide a concise way to create lists. Common applications are to make new lists where each element is the result of some operations applied to each member of another sequence or iterable, or to create a subsequence of those elements that satisfy a certain condition."
   ]
  },
  {
   "cell_type": "code",
   "execution_count": null,
   "metadata": {
    "colab": {},
    "colab_type": "code",
    "id": "jSeVK3rkF1NC"
   },
   "outputs": [],
   "source": [
    "# new_list = [expression for_loop_one_or_more conditions]\n",
    "\n",
    "\n",
    "numbers = [1, 2, 3, 4]\n",
    "squares = []\n",
    "\n",
    "for n in numbers:\n",
    "  squares.append(n**2)\n",
    "\n",
    "print(squares)  # Output: [1, 4, 9, 16]\n",
    "\n",
    "numbers = [1, 2, 3, 4]\n",
    "squares = [n**2 for n in numbers]\n",
    "\n",
    "print(squares)  # Output: [1, 4, 9, 16]"
   ]
  },
  {
   "cell_type": "code",
   "execution_count": null,
   "metadata": {
    "colab": {},
    "colab_type": "code",
    "id": "Db-CBveXGPJh"
   },
   "outputs": [],
   "source": [
    "list_a = [1, 2, 3, 4]\n",
    "list_b = [2, 3, 4, 5]\n",
    "\n",
    "common_num = []\n",
    "\n",
    "for a in list_a:\n",
    "  for b in list_b:\n",
    "    if a == b:\n",
    "      common_num.append(a)\n",
    "      \n",
    "print(common_num)  # Output [2, 3, 4]"
   ]
  },
  {
   "cell_type": "markdown",
   "metadata": {
    "colab_type": "text",
    "id": "KQLXY8y8Tjpx"
   },
   "source": [
    "## Exercise"
   ]
  },
  {
   "cell_type": "markdown",
   "metadata": {
    "colab_type": "text",
    "id": "e24KpezyS99J"
   },
   "source": [
    "Use list comprehension to rewrite the above program"
   ]
  },
  {
   "cell_type": "code",
   "execution_count": null,
   "metadata": {
    "colab": {},
    "colab_type": "code",
    "id": "BYCDj9XkTUdA"
   },
   "outputs": [],
   "source": [
    "#Write your solution"
   ]
  },
  {
   "cell_type": "markdown",
   "metadata": {
    "colab_type": "text",
    "id": "mKBChmqkYck-"
   },
   "source": [
    "# Numpy"
   ]
  },
  {
   "cell_type": "code",
   "execution_count": null,
   "metadata": {
    "colab": {},
    "colab_type": "code",
    "id": "E7zbG9DKYheZ"
   },
   "outputs": [],
   "source": [
    "import numpy as np"
   ]
  },
  {
   "cell_type": "markdown",
   "metadata": {
    "colab_type": "text",
    "id": "KvNHN1eMZ21f"
   },
   "source": [
    "## create a numpy array"
   ]
  },
  {
   "cell_type": "code",
   "execution_count": null,
   "metadata": {
    "colab": {},
    "colab_type": "code",
    "id": "HZ5HBoY5YkKT"
   },
   "outputs": [],
   "source": [
    "arr = np.array([1, 2, 3, 4, 5])\n",
    "\n",
    "print(arr)\n",
    "type(arr)"
   ]
  },
  {
   "cell_type": "markdown",
   "metadata": {
    "colab_type": "text",
    "id": "fgO5gEpkarTZ"
   },
   "source": [
    "## Array index,slicing, max, min"
   ]
  },
  {
   "cell_type": "code",
   "execution_count": null,
   "metadata": {
    "colab": {},
    "colab_type": "code",
    "id": "Ymeu1G2CaRAw"
   },
   "outputs": [],
   "source": [
    "import numpy as np\n",
    "\n",
    "arr = np.array([1, 2, 3, 4])\n",
    "\n",
    "print(arr[0])\n",
    "print(np.amax(arr))\n",
    "print(np.amin(arr))"
   ]
  },
  {
   "cell_type": "markdown",
   "metadata": {
    "colab_type": "text",
    "id": "E-Kte5qqzr3C"
   },
   "source": [
    "### nd array"
   ]
  },
  {
   "cell_type": "code",
   "execution_count": null,
   "metadata": {
    "colab": {},
    "colab_type": "code",
    "id": "YgvFk4UYcXNO"
   },
   "outputs": [],
   "source": [
    "import numpy as np\n",
    "\n",
    "arr = np.array([[1,2,3,4,5], [6,7,8,9,10]])\n",
    "\n",
    "print('2nd element on 1st dim: ', arr[0, 1])"
   ]
  },
  {
   "cell_type": "code",
   "execution_count": null,
   "metadata": {
    "colab": {},
    "colab_type": "code",
    "id": "c-pLLnQFzuiU"
   },
   "outputs": [],
   "source": [
    "import numpy as np \n",
    "a = np.array([[1,2,3],[3,4,5],[4,5,6]]) \n",
    "print(a)\n",
    "\n",
    "# slice items starting from index\n",
    "print('Now we will slice the array from the index a[1:]')\n",
    "print(a[1:])"
   ]
  },
  {
   "cell_type": "code",
   "execution_count": null,
   "metadata": {
    "colab": {},
    "colab_type": "code",
    "id": "2xqN-9Mcz5nX"
   },
   "outputs": [],
   "source": [
    "\n",
    "# array to begin with \n",
    "import numpy as np \n",
    "a = np.array([[1,2,3],[3,4,5],[4,5,6],[7,8,9]]) \n",
    "\n",
    "print('Our array is:')\n",
    "print(a)  \n",
    "\n",
    "# this returns array of items in the second column \n",
    "print('The items in the second column are:')\n",
    "print(a[:1]) \n",
    "\n",
    "# Now we will slice all items from the second row \n",
    "print('The items in the second row are:')\n",
    "print(a[1:]) \n",
    "\n",
    "print(a[2,2])\n",
    "\n",
    "# Now we will slice all items from column 1 onwards \n",
    "print('The items column 1 onwards are:')\n",
    "print(a[:1:])"
   ]
  },
  {
   "cell_type": "markdown",
   "metadata": {
    "colab_type": "text",
    "id": "_6zV_0HDavCw"
   },
   "source": [
    "## Array Search"
   ]
  },
  {
   "cell_type": "code",
   "execution_count": null,
   "metadata": {
    "colab": {},
    "colab_type": "code",
    "id": "fC3f2wSOaw-U"
   },
   "outputs": [],
   "source": [
    "import numpy as np\n",
    "\n",
    "arr = np.array([1, 2, 3, 4, 5, 4, 4])\n",
    "\n",
    "x = np.where(arr == 4)\n",
    "\n",
    "print(x)\n"
   ]
  },
  {
   "cell_type": "markdown",
   "metadata": {
    "colab_type": "text",
    "id": "KXGArs-wbBem"
   },
   "source": [
    "## Array sort"
   ]
  },
  {
   "cell_type": "code",
   "execution_count": null,
   "metadata": {
    "colab": {},
    "colab_type": "code",
    "id": "F8Zfdg27bEh8"
   },
   "outputs": [],
   "source": [
    "import numpy as np\n",
    "\n",
    "arr = np.array([3, 2, 0, 1])\n",
    "\n",
    "print(np.sort(arr))"
   ]
  },
  {
   "cell_type": "markdown",
   "metadata": {
    "colab_type": "text",
    "id": "Wmo5-hJYboIj"
   },
   "source": [
    "## broadcast"
   ]
  },
  {
   "cell_type": "code",
   "execution_count": null,
   "metadata": {
    "colab": {},
    "colab_type": "code",
    "id": "Nh7zGmpmbqG_"
   },
   "outputs": [],
   "source": [
    "x = np.array([[1], [2], [3]])\n",
    "y = np.array([4, 5, 6])\n",
    "print(x)\n",
    "print(y)\n",
    "b = np.broadcast(x, y)"
   ]
  },
  {
   "cell_type": "code",
   "execution_count": null,
   "metadata": {
    "colab": {},
    "colab_type": "code",
    "id": "bQYYIL3Jb-st"
   },
   "outputs": [],
   "source": [
    "x + y"
   ]
  },
  {
   "cell_type": "markdown",
   "metadata": {
    "colab_type": "text",
    "id": "1utyOBu-cIPP"
   },
   "source": [
    "## join"
   ]
  },
  {
   "cell_type": "code",
   "execution_count": null,
   "metadata": {
    "colab": {},
    "colab_type": "code",
    "id": "4KJrvHz4cJwt"
   },
   "outputs": [],
   "source": [
    "import numpy as np\n",
    "\n",
    "arr1 = np.array([1, 2, 3])\n",
    "\n",
    "arr2 = np.array([4, 5, 6])\n",
    "\n",
    "arr = np.concatenate((arr1, arr2))\n",
    "\n",
    "print(arr)"
   ]
  },
  {
   "cell_type": "markdown",
   "metadata": {
    "colab_type": "text",
    "id": "pSp0C-PUcN3d"
   },
   "source": [
    "## split"
   ]
  },
  {
   "cell_type": "code",
   "execution_count": null,
   "metadata": {
    "colab": {},
    "colab_type": "code",
    "id": "UMpdwcZmoeP_"
   },
   "outputs": [],
   "source": [
    "import numpy as np\n",
    "\n",
    "arr = np.array([1, 2, 3, 4, 5, 6])\n",
    "\n",
    "newarr = np.array_split(arr, 3)\n",
    "\n",
    "print(newarr)"
   ]
  },
  {
   "cell_type": "markdown",
   "metadata": {
    "colab_type": "text",
    "id": "N8j-c8frZ7at"
   },
   "source": [
    "## numpy array reshape"
   ]
  },
  {
   "cell_type": "code",
   "execution_count": null,
   "metadata": {
    "colab": {},
    "colab_type": "code",
    "id": "XffS2NKgZ-Dk"
   },
   "outputs": [],
   "source": [
    "\n",
    "arr = np.array([1, 2, 3, 4, 5, 6, 7, 8, 9, 10, 11, 12])\n",
    "\n",
    "newarr = arr.reshape(4, 3)\n",
    "\n",
    "print(newarr)"
   ]
  },
  {
   "cell_type": "markdown",
   "metadata": {
    "colab_type": "text",
    "id": "O2WKzs2zcvMk"
   },
   "source": [
    "## Universal Functions"
   ]
  },
  {
   "cell_type": "code",
   "execution_count": null,
   "metadata": {
    "colab": {},
    "colab_type": "code",
    "id": "Uu7YwKZGcx4L"
   },
   "outputs": [],
   "source": [
    "import numpy as np\n",
    " \n",
    "x = np.array([1, 2, 3, 4])\n",
    "y = np.array([4, 5, 6, 7])\n",
    "z = x + y\n",
    "\n",
    "print(z)"
   ]
  },
  {
   "cell_type": "code",
   "execution_count": null,
   "metadata": {
    "colab": {},
    "colab_type": "code",
    "id": "cL-N5GZMdHxo"
   },
   "outputs": [],
   "source": [
    "import numpy as np\n",
    "\n",
    "arr1 = np.array([10, 11, 12, 13, 14, 15])\n",
    "arr2 = np.array([20, 21, 22, 23, 24, 25])\n",
    "\n",
    "newarr = arr1 - arr2\n",
    "\n",
    "print(newarr)"
   ]
  },
  {
   "cell_type": "code",
   "execution_count": null,
   "metadata": {
    "colab": {},
    "colab_type": "code",
    "id": "zuqXew9gdJwI"
   },
   "outputs": [],
   "source": [
    "import numpy as np\n",
    "\n",
    "arr1 = np.array([10, 20, 30, 40, 50, 60])\n",
    "arr2 = np.array([20, 21, 22, 23, 24, 25])\n",
    "\n",
    "newarr = arr1 - arr2\n",
    "\n",
    "print(newarr)"
   ]
  },
  {
   "cell_type": "code",
   "execution_count": null,
   "metadata": {
    "colab": {},
    "colab_type": "code",
    "id": "8v4XUMAWdLyD"
   },
   "outputs": [],
   "source": [
    "import numpy as np\n",
    "\n",
    "arr1 = np.array([10, 20, 30, 40, 50, 60])\n",
    "arr2 = np.array([20, 21, 22, 23, 24, 25])\n",
    "\n",
    "newarr = arr1 * arr2\n",
    "print(newarr)"
   ]
  },
  {
   "cell_type": "code",
   "execution_count": null,
   "metadata": {
    "colab": {},
    "colab_type": "code",
    "id": "GZy4O69FdNZg"
   },
   "outputs": [],
   "source": [
    "import numpy as np\n",
    "\n",
    "arr1 = np.array([10, 20, 30, 40, 50, 60])\n",
    "arr2 = np.array([3, 5, 10, 8, 2, 33])\n",
    "\n",
    "newarr = arr1 / arr2\n",
    "\n",
    "print(newarr)"
   ]
  },
  {
   "cell_type": "code",
   "execution_count": null,
   "metadata": {
    "colab": {},
    "colab_type": "code",
    "id": "v5yeJvB9dPYD"
   },
   "outputs": [],
   "source": [
    "import numpy as np\n",
    "\n",
    "arr1 = np.array([10, 20, 30, 40, 50, 60])\n",
    "arr2 = np.array([3, 5, 6, 8, 2, 33])\n",
    "\n",
    "newarr = arr1 ** arr2\n",
    "\n",
    "print(newarr)"
   ]
  },
  {
   "cell_type": "markdown",
   "metadata": {
    "colab_type": "text",
    "id": "DbUAq78UyvsZ"
   },
   "source": [
    "### matrix multiplication"
   ]
  },
  {
   "cell_type": "code",
   "execution_count": null,
   "metadata": {
    "colab": {},
    "colab_type": "code",
    "id": "U6frLj5dywpO"
   },
   "outputs": [],
   "source": [
    "import numpy as np\n",
    "\n",
    "array1=np.array([[1,2,3],[4,5,6],[7,8,9]],ndmin=3)  \n",
    "array2=np.array([[9,8,7],[6,5,4],[3,2,1]],ndmin=3)  \n",
    "result=np.dot(array1,array2)\n",
    "result  "
   ]
  },
  {
   "cell_type": "code",
   "execution_count": null,
   "metadata": {
    "colab": {},
    "colab_type": "code",
    "id": "JVdjk-WJAxic"
   },
   "outputs": [],
   "source": []
  },
  {
   "cell_type": "markdown",
   "metadata": {
    "colab_type": "text",
    "id": "WnGmRcKrNC6T"
   },
   "source": [
    "## Exercise"
   ]
  },
  {
   "cell_type": "markdown",
   "metadata": {
    "colab_type": "text",
    "id": "KmPz579aShGa"
   },
   "source": [
    "Write a  program to convert the values of Centigrade degrees into Fahrenheit degrees. Centigrade values are stored into an array.\n",
    "Sample Array [0, 12, 45.21 ,34, 99.91]"
   ]
  },
  {
   "cell_type": "code",
   "execution_count": null,
   "metadata": {
    "colab": {},
    "colab_type": "code",
    "id": "b9Xf9AJYStyo"
   },
   "outputs": [],
   "source": [
    "import numpy as np\n",
    "fvalues = [0, 12, 45.21, 34, 99.91]\n",
    "F = np.array(fvalues)"
   ]
  },
  {
   "cell_type": "code",
   "execution_count": null,
   "metadata": {
    "colab": {},
    "colab_type": "code",
    "id": "N7l86IfdTOcd"
   },
   "outputs": [],
   "source": [
    "#Write your solution"
   ]
  },
  {
   "cell_type": "markdown",
   "metadata": {
    "colab_type": "text",
    "id": "9LBtXvUCk2UH"
   },
   "source": [
    "# Pandas\n",
    "\n",
    "## What is Pandas?\n",
    "- Pandas is a fast, powerful, flexible and easy to use open source data analysis and manipulation tool, built on top of the Python programming language.\n",
    "- Pandas relies heavily on NumPy arrays to implement its objects for manipulation and computation but in a more convenient fashion."
   ]
  },
  {
   "cell_type": "markdown",
   "metadata": {
    "colab_type": "text",
    "id": "sh43XUCGmf1C"
   },
   "source": [
    "## Quick sidenote on importing your whole google drive to Google Collab\n"
   ]
  },
  {
   "cell_type": "code",
   "execution_count": null,
   "metadata": {
    "colab": {},
    "colab_type": "code",
    "id": "r7PiVM3ZmeSP"
   },
   "outputs": [],
   "source": [
    "from google.colab import drive\n",
    "drive.mount('/content/drive')"
   ]
  },
  {
   "cell_type": "markdown",
   "metadata": {
    "colab_type": "text",
    "id": "6i5qJ6oak2UI"
   },
   "source": [
    "## Series\n",
    "\n",
    "- Series is a very common data type in Pandas\n",
    "- A Series is very similar to a Numpy array, but a series can have axis labels, meaning it can be indexed by a label, instead of just a number location\n",
    "- A Series can hold any arbitrary Python Object."
   ]
  },
  {
   "cell_type": "code",
   "execution_count": null,
   "metadata": {
    "colab": {},
    "colab_type": "code",
    "id": "2tKgoFVhk2UI"
   },
   "outputs": [],
   "source": [
    "import numpy as np\n",
    "import pandas as pd"
   ]
  },
  {
   "cell_type": "markdown",
   "metadata": {
    "colab_type": "text",
    "id": "A47Wg2M3k2UL"
   },
   "source": [
    "### Creating a series"
   ]
  },
  {
   "cell_type": "code",
   "execution_count": null,
   "metadata": {
    "colab": {},
    "colab_type": "code",
    "id": "ZjXvhXh_k2UL"
   },
   "outputs": [],
   "source": [
    "labels = ['a','b','c']\n",
    "my_list = [10,20,30]\n",
    "arr = np.array([10,20,30])\n",
    "d = {'a':10,'b':20,'c':30}"
   ]
  },
  {
   "cell_type": "code",
   "execution_count": null,
   "metadata": {
    "colab": {},
    "colab_type": "code",
    "id": "BYEIs_C5k2UN"
   },
   "outputs": [],
   "source": [
    "#pd.Series(data, index)\n",
    "pd.Series(data=my_list)"
   ]
  },
  {
   "cell_type": "code",
   "execution_count": null,
   "metadata": {
    "colab": {},
    "colab_type": "code",
    "id": "tGcDJeX8k2UQ"
   },
   "outputs": [],
   "source": [
    "pd.Series(data=my_list, index=labels)"
   ]
  },
  {
   "cell_type": "code",
   "execution_count": null,
   "metadata": {
    "colab": {},
    "colab_type": "code",
    "id": "k6AiWiRAk2US"
   },
   "outputs": [],
   "source": [
    "pd.Series(arr)"
   ]
  },
  {
   "cell_type": "code",
   "execution_count": null,
   "metadata": {
    "colab": {},
    "colab_type": "code",
    "id": "bgvrSogwk2UU"
   },
   "outputs": [],
   "source": [
    "pd.Series(d)"
   ]
  },
  {
   "cell_type": "code",
   "execution_count": null,
   "metadata": {
    "colab": {},
    "colab_type": "code",
    "id": "W847DgEPk2UW"
   },
   "outputs": [],
   "source": [
    "pd.Series([sum, print, len])"
   ]
  },
  {
   "cell_type": "markdown",
   "metadata": {
    "colab_type": "text",
    "id": "waR7E65nk2UY"
   },
   "source": [
    "### Using an index"
   ]
  },
  {
   "cell_type": "code",
   "execution_count": null,
   "metadata": {
    "colab": {},
    "colab_type": "code",
    "id": "hwrwNNFzk2UZ"
   },
   "outputs": [],
   "source": [
    "# Creating a small data set\n",
    "ser1 = pd.Series([1, 2, 3, 4], ['Jack', 'Jill', 'Romeo', 'Juliet'])\n",
    "ser1"
   ]
  },
  {
   "cell_type": "code",
   "execution_count": null,
   "metadata": {
    "colab": {},
    "colab_type": "code",
    "id": "HcGpMr8jk2Ub"
   },
   "outputs": [],
   "source": [
    "# Creating another small data set\n",
    "ser2 = pd.Series([2, 4, 1, 3], ['Jack', 'Jill', 'Romeo', 'Juliet'])\n",
    "ser2"
   ]
  },
  {
   "cell_type": "code",
   "execution_count": null,
   "metadata": {
    "colab": {},
    "colab_type": "code",
    "id": "_ReRJLZxk2Uc"
   },
   "outputs": [],
   "source": [
    "# Retrieving data from the table\n",
    "ser1['Jack']\n",
    "ser1.loc['Jack']"
   ]
  },
  {
   "cell_type": "code",
   "execution_count": null,
   "metadata": {
    "colab": {},
    "colab_type": "code",
    "id": "0OiBJLTRlm8z"
   },
   "outputs": [],
   "source": [
    "ser1[0]\n",
    "ser1.iloc[0]"
   ]
  },
  {
   "cell_type": "code",
   "execution_count": null,
   "metadata": {
    "colab": {},
    "colab_type": "code",
    "id": "HkFmsU8Ek2Ui"
   },
   "outputs": [],
   "source": [
    "# Retrieving index labels\n",
    "ser1.index[1]"
   ]
  },
  {
   "cell_type": "code",
   "execution_count": null,
   "metadata": {
    "colab": {},
    "colab_type": "code",
    "id": "0DGFZGygk2Uj"
   },
   "outputs": [],
   "source": [
    "# Simples operations on 2 dataframes with common index\n",
    "ser1 + ser2"
   ]
  },
  {
   "cell_type": "markdown",
   "metadata": {
    "colab_type": "text",
    "id": "sDlPdEP5k2Ul"
   },
   "source": [
    "## DataFrames\n",
    "\n",
    "- A DataFrame is just like a bunch of Series grouped together sharing the same index"
   ]
  },
  {
   "cell_type": "code",
   "execution_count": null,
   "metadata": {
    "colab": {},
    "colab_type": "code",
    "id": "dBjFUT2hk2Un"
   },
   "outputs": [],
   "source": [
    "# Creating a pandas DataFrame\n",
    "df = pd.DataFrame({'A': [1, 2, 3, 4, 5, 6, 7],\n",
    "                   'B': [3, 4, 5, 6, 7, 8, 9]})\n",
    "# randn params are for dimensions of returned array\n",
    "df"
   ]
  },
  {
   "cell_type": "markdown",
   "metadata": {
    "colab_type": "text",
    "id": "bp4SeowJoij4"
   },
   "source": [
    "## Read in data sets"
   ]
  },
  {
   "cell_type": "markdown",
   "metadata": {
    "colab_type": "text",
    "id": "33bDYAZqooFX"
   },
   "source": [
    "Reading in a comma-separated values (CSV) file "
   ]
  },
  {
   "cell_type": "markdown",
   "metadata": {
    "colab_type": "text",
    "id": "jZ9nzsikpav4"
   },
   "source": [
    "For demonstration purposes, we will use the titanic dataset from https://www.kaggle.com/c/titanic/data?select=train.csv"
   ]
  },
  {
   "cell_type": "markdown",
   "metadata": {
    "colab_type": "text",
    "id": "MamMZCcMpav7"
   },
   "source": [
    "This is the link where you can get the dataset directly: \n",
    "https://drive.google.com/file/d/1vG3ApUCZKm-0joSrBdNmvA66dIcS_9dn/view?usp=sharing"
   ]
  },
  {
   "cell_type": "code",
   "execution_count": null,
   "metadata": {
    "colab": {},
    "colab_type": "code",
    "id": "by_uggOmonMw"
   },
   "outputs": [],
   "source": [
    "from google.colab import files\n",
    "uploaded = files.upload()"
   ]
  },
  {
   "cell_type": "code",
   "execution_count": null,
   "metadata": {
    "colab": {},
    "colab_type": "code",
    "id": "onvQbqb2p1jL"
   },
   "outputs": [],
   "source": [
    "titanic = pd.read_csv('/content/titanic_dataset.csv')\n",
    "titanic"
   ]
  },
  {
   "cell_type": "code",
   "execution_count": null,
   "metadata": {
    "colab": {},
    "colab_type": "code",
    "id": "rYC9RMBgpuID"
   },
   "outputs": [],
   "source": [
    "import io\n",
    "titanic = pd.read_csv(io.BytesIO(uploaded['titanic_dataset.csv']))\n",
    "titanic"
   ]
  },
  {
   "cell_type": "markdown",
   "metadata": {
    "colab_type": "text",
    "id": "KaqfZxmYqFKK"
   },
   "source": [
    "Reading in an excel file"
   ]
  },
  {
   "cell_type": "markdown",
   "metadata": {
    "colab_type": "text",
    "id": "HU5KaT-8tJaY"
   },
   "source": [
    "This is the link to get the data set directly: \n",
    "https://drive.google.com/file/d/1NeARJJ7idkfzij5lqyRImmGQRgxOA4YG/view?usp=sharing\n",
    "\n"
   ]
  },
  {
   "cell_type": "code",
   "execution_count": null,
   "metadata": {
    "colab": {},
    "colab_type": "code",
    "id": "y7T9rwNorONx"
   },
   "outputs": [],
   "source": [
    "from google.colab import files\n",
    "uploaded = files.upload()"
   ]
  },
  {
   "cell_type": "code",
   "execution_count": null,
   "metadata": {
    "colab": {},
    "colab_type": "code",
    "id": "x7wFtiayrM8i"
   },
   "outputs": [],
   "source": [
    "pd.read_excel('/content/sample_excel.xlsx')"
   ]
  },
  {
   "cell_type": "markdown",
   "metadata": {
    "colab_type": "text",
    "id": "NPEjeBwz4H1W"
   },
   "source": [
    "Retreiving basic information from a DataFrame"
   ]
  },
  {
   "cell_type": "code",
   "execution_count": null,
   "metadata": {
    "colab": {},
    "colab_type": "code",
    "id": "XhBw80jG4HC0"
   },
   "outputs": [],
   "source": [
    "titanic.head()"
   ]
  },
  {
   "cell_type": "code",
   "execution_count": null,
   "metadata": {
    "colab": {},
    "colab_type": "code",
    "id": "UhHkJ9274RcV"
   },
   "outputs": [],
   "source": [
    "titanic.describe()"
   ]
  },
  {
   "cell_type": "code",
   "execution_count": null,
   "metadata": {
    "colab": {},
    "colab_type": "code",
    "id": "Diq98CF04Ug9"
   },
   "outputs": [],
   "source": [
    "titanic.info()"
   ]
  },
  {
   "cell_type": "markdown",
   "metadata": {
    "colab_type": "text",
    "id": "gBdm8McLk2Ur"
   },
   "source": [
    "### Selection"
   ]
  },
  {
   "cell_type": "code",
   "execution_count": null,
   "metadata": {
    "colab": {},
    "colab_type": "code",
    "id": "h8Wf91uLk2Ur"
   },
   "outputs": [],
   "source": [
    "# Selecting a column\n",
    "df['Y']"
   ]
  },
  {
   "cell_type": "code",
   "execution_count": null,
   "metadata": {
    "colab": {},
    "colab_type": "code",
    "id": "EQjdz7w6k2Ut"
   },
   "outputs": [],
   "source": [
    "# Selecting 2 columns\n",
    "df[['W', 'Y']]"
   ]
  },
  {
   "cell_type": "code",
   "execution_count": null,
   "metadata": {
    "colab": {},
    "colab_type": "code",
    "id": "9zp6-N3Tk2Uv"
   },
   "outputs": [],
   "source": [
    "# Selecting a row\n",
    "df.loc['A']"
   ]
  },
  {
   "cell_type": "code",
   "execution_count": null,
   "metadata": {
    "colab": {},
    "colab_type": "code",
    "id": "Ns064wqMk2Ux"
   },
   "outputs": [],
   "source": [
    "# Selecting multiple rows and columns\n",
    "df.iloc[:, 0:2]"
   ]
  },
  {
   "cell_type": "code",
   "execution_count": null,
   "metadata": {
    "colab": {},
    "colab_type": "code",
    "id": "EYUQ8IQIk2U2"
   },
   "outputs": [],
   "source": [
    "# Selection based on criteria\n",
    "df[df>0]"
   ]
  },
  {
   "cell_type": "code",
   "execution_count": null,
   "metadata": {
    "colab": {},
    "colab_type": "code",
    "id": "4rgjCbpok2U4"
   },
   "outputs": [],
   "source": [
    "df[df['W'] > 0]"
   ]
  },
  {
   "cell_type": "code",
   "execution_count": null,
   "metadata": {
    "colab": {},
    "colab_type": "code",
    "id": "6rQzCD-fk2U5"
   },
   "outputs": [],
   "source": [
    "df[df['W'] > 0]['Y']"
   ]
  },
  {
   "cell_type": "code",
   "execution_count": null,
   "metadata": {
    "colab": {},
    "colab_type": "code",
    "id": "OHtrmX1ak2U7"
   },
   "outputs": [],
   "source": [
    "df[df['W'] > 0][['X', 'Y']]"
   ]
  },
  {
   "cell_type": "code",
   "execution_count": null,
   "metadata": {
    "colab": {},
    "colab_type": "code",
    "id": "HbR7GXg2k2U9"
   },
   "outputs": [],
   "source": [
    "df[(df['W']<0) & (df['Y']<0)]"
   ]
  },
  {
   "cell_type": "code",
   "execution_count": null,
   "metadata": {
    "colab": {},
    "colab_type": "code",
    "id": "ieJebs4kk2U-"
   },
   "outputs": [],
   "source": [
    "df[(df['W']<0) | (df['Y']<0)]"
   ]
  },
  {
   "cell_type": "markdown",
   "metadata": {
    "colab_type": "text",
    "id": "bki09h5Ek2VC"
   },
   "source": [
    "### Creating a new row"
   ]
  },
  {
   "cell_type": "code",
   "execution_count": null,
   "metadata": {
    "colab": {},
    "colab_type": "code",
    "id": "sZnitO7zk2VC"
   },
   "outputs": [],
   "source": [
    "df['new'] = df['W'] + df['Y']\n",
    "#df['new'] = [0, 1, 2, 3, 4]\n",
    "df"
   ]
  },
  {
   "cell_type": "markdown",
   "metadata": {
    "colab_type": "text",
    "id": "17L0Jq1ck2VE"
   },
   "source": [
    "### Dropping a column or a row"
   ]
  },
  {
   "cell_type": "code",
   "execution_count": null,
   "metadata": {
    "colab": {},
    "colab_type": "code",
    "id": "ILwEWAaQk2VF"
   },
   "outputs": [],
   "source": [
    "# inplace=False\n",
    "df.drop('new', axis=1)"
   ]
  },
  {
   "cell_type": "code",
   "execution_count": null,
   "metadata": {
    "colab": {},
    "colab_type": "code",
    "id": "zhis1mz-k2VG"
   },
   "outputs": [],
   "source": [
    "df.drop('E', axis=0)"
   ]
  },
  {
   "cell_type": "markdown",
   "metadata": {
    "colab_type": "text",
    "id": "dSV6n5nUk2VI"
   },
   "source": [
    "### Indexing"
   ]
  },
  {
   "cell_type": "code",
   "execution_count": null,
   "metadata": {
    "colab": {},
    "colab_type": "code",
    "id": "pg0mJGQrk2VI"
   },
   "outputs": [],
   "source": [
    "df.reset_index()"
   ]
  },
  {
   "cell_type": "code",
   "execution_count": null,
   "metadata": {
    "colab": {},
    "colab_type": "code",
    "id": "GYLiuIhJk2VJ"
   },
   "outputs": [],
   "source": [
    "# Generate a new column to replace the current index\n",
    "df['Type'] = ['A', 'AA', 'AAA', 'AAAA', 'AAAAA']"
   ]
  },
  {
   "cell_type": "code",
   "execution_count": null,
   "metadata": {
    "colab": {},
    "colab_type": "code",
    "id": "84DZUh0Qk2VL"
   },
   "outputs": [],
   "source": [
    "# Set the new column as the new index\n",
    "df.set_index('Type')"
   ]
  },
  {
   "cell_type": "markdown",
   "metadata": {
    "colab_type": "text",
    "id": "DDIALiEIk2Vg"
   },
   "source": [
    "## Dealing with missing data"
   ]
  },
  {
   "cell_type": "code",
   "execution_count": null,
   "metadata": {
    "colab": {},
    "colab_type": "code",
    "id": "wVIfo36fk2Vg"
   },
   "outputs": [],
   "source": [
    "# Creating a sample data set\n",
    "df2 = pd.DataFrame({'A':[1,2,np.nan],\n",
    "                  'B':[5,np.nan,np.nan],\n",
    "                  'C':[1,2,3]})\n",
    "df2"
   ]
  },
  {
   "cell_type": "code",
   "execution_count": null,
   "metadata": {
    "colab": {},
    "colab_type": "code",
    "id": "hFuMIocpk2Vh"
   },
   "outputs": [],
   "source": [
    "# Checking for null values\n",
    "df2.isnull()"
   ]
  },
  {
   "cell_type": "code",
   "execution_count": null,
   "metadata": {
    "colab": {},
    "colab_type": "code",
    "id": "95DL5eaQk2Vj"
   },
   "outputs": [],
   "source": [
    "# Dropping rows will null data\n",
    "df2.dropna()"
   ]
  },
  {
   "cell_type": "code",
   "execution_count": null,
   "metadata": {
    "colab": {},
    "colab_type": "code",
    "id": "KlKIpRBFk2Vl"
   },
   "outputs": [],
   "source": [
    "# Dropping columns with null data\n",
    "df2.dropna(axis=1)"
   ]
  },
  {
   "cell_type": "code",
   "execution_count": null,
   "metadata": {
    "colab": {},
    "colab_type": "code",
    "id": "v4E1z_t8k2Vm"
   },
   "outputs": [],
   "source": [
    "#require at least <input param> values in the row that are not NaN\n",
    "df2.dropna(thresh=2)"
   ]
  },
  {
   "cell_type": "code",
   "execution_count": null,
   "metadata": {
    "colab": {},
    "colab_type": "code",
    "id": "409blfBgk2Vq"
   },
   "outputs": [],
   "source": [
    "# Replacing null values with zeroes\n",
    "df2.fillna(0)"
   ]
  },
  {
   "cell_type": "code",
   "execution_count": null,
   "metadata": {
    "colab": {},
    "colab_type": "code",
    "id": "7tTLtPCgk2Vr"
   },
   "outputs": [],
   "source": [
    "df2['A'].fillna(df2['A'].mean())"
   ]
  },
  {
   "cell_type": "markdown",
   "metadata": {
    "colab_type": "text",
    "id": "n_2PFOo9k2Vs"
   },
   "source": [
    "## Groupby"
   ]
  },
  {
   "cell_type": "markdown",
   "metadata": {
    "colab_type": "text",
    "id": "Ad6oD5PFutQk"
   },
   "source": [
    "We will be using the housing data set from https://www.kaggle.com/camnugent/california-housing-prices"
   ]
  },
  {
   "cell_type": "markdown",
   "metadata": {
    "colab_type": "text",
    "id": "waQvPFSWuxPv"
   },
   "source": [
    "Download the data set directly from this link: https://drive.google.com/file/d/1OG8N4w7HVlycDWCOCANSqt5coMKC0XJC/view?usp=sharing"
   ]
  },
  {
   "cell_type": "code",
   "execution_count": null,
   "metadata": {
    "colab": {},
    "colab_type": "code",
    "id": "f7CFIt7fvHjp"
   },
   "outputs": [],
   "source": [
    "from google.colab import files\n",
    "uploaded = files.upload()"
   ]
  },
  {
   "cell_type": "code",
   "execution_count": null,
   "metadata": {
    "colab": {},
    "colab_type": "code",
    "id": "viDzWKIGvMpn"
   },
   "outputs": [],
   "source": [
    "housing = pd.read_csv('/content/housing.csv')\n",
    "housing"
   ]
  },
  {
   "cell_type": "code",
   "execution_count": null,
   "metadata": {
    "colab": {},
    "colab_type": "code",
    "id": "PK-x_DlQvXEk"
   },
   "outputs": [],
   "source": [
    "grouped = housing.groupby('ocean_proximity')"
   ]
  },
  {
   "cell_type": "markdown",
   "metadata": {
    "colab_type": "text",
    "id": "UnFADvhKG4GH"
   },
   "source": [
    "For more basic callable built-in pandas function: https://pandas.pydata.org/pandas-docs/stable/user_guide/basics.html"
   ]
  },
  {
   "cell_type": "code",
   "execution_count": null,
   "metadata": {
    "colab": {},
    "colab_type": "code",
    "id": "GFd7P1QQvjWx"
   },
   "outputs": [],
   "source": [
    "grouped['latitude'].mean()"
   ]
  },
  {
   "cell_type": "code",
   "execution_count": null,
   "metadata": {
    "colab": {},
    "colab_type": "code",
    "id": "qzhBaQhtFk1g"
   },
   "outputs": [],
   "source": [
    "grouped['latitude'].count()"
   ]
  },
  {
   "cell_type": "code",
   "execution_count": null,
   "metadata": {
    "colab": {},
    "colab_type": "code",
    "id": "jpwKy9clFk32"
   },
   "outputs": [],
   "source": [
    "grouped['latitude'].var()"
   ]
  },
  {
   "cell_type": "code",
   "execution_count": null,
   "metadata": {
    "colab": {},
    "colab_type": "code",
    "id": "2jpp7-YQk2V1"
   },
   "outputs": [],
   "source": [
    "grouped.describe()"
   ]
  },
  {
   "cell_type": "markdown",
   "metadata": {
    "colab_type": "text",
    "id": "dRD74RNGk2V2"
   },
   "source": [
    "## Combining DataFrames"
   ]
  },
  {
   "cell_type": "markdown",
   "metadata": {
    "colab_type": "text",
    "id": "MeF849FIk2V3"
   },
   "source": [
    "### Concatenate\n",
    "- Glues dataframes together along the axis given"
   ]
  },
  {
   "cell_type": "code",
   "execution_count": null,
   "metadata": {
    "colab": {},
    "colab_type": "code",
    "id": "HKFtUl2kk2V3"
   },
   "outputs": [],
   "source": [
    "housing_set1 = housing.iloc[:5, -3:]\n",
    "housing_set1"
   ]
  },
  {
   "cell_type": "code",
   "execution_count": null,
   "metadata": {
    "colab": {},
    "colab_type": "code",
    "id": "6QrZNT2ik2V4"
   },
   "outputs": [],
   "source": [
    "housing_set2 = housing.iloc[5:10, -3:]\n",
    "housing_set2"
   ]
  },
  {
   "cell_type": "code",
   "execution_count": null,
   "metadata": {
    "colab": {},
    "colab_type": "code",
    "id": "jRzCy-wzk2V6"
   },
   "outputs": [],
   "source": [
    "housing_set3 = housing.iloc[10:15, -3:]\n",
    "housing_set3.reset_index(inplace=True)\n",
    "housing_set3.drop('index', inplace=True, axis=1)\n",
    "housing_set3"
   ]
  },
  {
   "cell_type": "code",
   "execution_count": null,
   "metadata": {
    "colab": {},
    "colab_type": "code",
    "id": "0fNvTQesk2V8"
   },
   "outputs": [],
   "source": [
    "pd.concat([housing_set1, housing_set2, housing_set3])"
   ]
  },
  {
   "cell_type": "code",
   "execution_count": null,
   "metadata": {
    "colab": {},
    "colab_type": "code",
    "id": "yDyBmQWsk2V9"
   },
   "outputs": [],
   "source": [
    "pd.concat([housing_set1, housing_set2, housing_set3], axis=1)"
   ]
  },
  {
   "cell_type": "markdown",
   "metadata": {
    "colab_type": "text",
    "id": "ycLUrkmbk2V_"
   },
   "source": [
    "### Merge\n",
    "- Combines 2 DataFrames on a key"
   ]
  },
  {
   "cell_type": "code",
   "execution_count": null,
   "metadata": {
    "colab": {},
    "colab_type": "code",
    "id": "teRLhNv4k2WA"
   },
   "outputs": [],
   "source": [
    "left = housing.sample(10).iloc[:, -3:]\n",
    "left"
   ]
  },
  {
   "cell_type": "code",
   "execution_count": null,
   "metadata": {
    "colab": {},
    "colab_type": "code",
    "id": "CEXgGMsvk2WB"
   },
   "outputs": [],
   "source": [
    "right = pd.DataFrame({'ocean_proximity': housing['ocean_proximity'].unique(),\n",
    "                      'labelling': [0, 1, 2, 3, 4]})\n",
    "right"
   ]
  },
  {
   "cell_type": "code",
   "execution_count": null,
   "metadata": {
    "colab": {},
    "colab_type": "code",
    "id": "gdR11_oRk2WC"
   },
   "outputs": [],
   "source": [
    "# inner: use intersection of keys from both frames, similar to a SQL inner join; preserve the order of the left keys.\n",
    "pd.merge(left, right, how='inner', on='ocean_proximity')"
   ]
  },
  {
   "cell_type": "code",
   "execution_count": null,
   "metadata": {
    "colab": {},
    "colab_type": "code",
    "id": "1KcelNetk2WD"
   },
   "outputs": [],
   "source": [
    "# outer: use union of keys from both frames, similar to a SQL full outer join; sort keys lexicographically.\n",
    "pd.merge(left, right, how='outer', on='ocean_proximity')"
   ]
  },
  {
   "cell_type": "code",
   "execution_count": null,
   "metadata": {
    "colab": {},
    "colab_type": "code",
    "id": "4uJ4RkCR2Ogr"
   },
   "outputs": [],
   "source": [
    "# right: use only keys from right frame, similar to a SQL right outer join; preserve key order.\n",
    "# left: use only keys from left frame, similar to a SQL left outer join; preserve key order."
   ]
  },
  {
   "cell_type": "markdown",
   "metadata": {
    "colab_type": "text",
    "id": "YqWKh4sOk2WM"
   },
   "source": [
    "## Dealing with unique values"
   ]
  },
  {
   "cell_type": "code",
   "execution_count": null,
   "metadata": {
    "colab": {},
    "colab_type": "code",
    "id": "9-U6rZ0Hk2WM"
   },
   "outputs": [],
   "source": [
    "df4 = pd.DataFrame({'Salesperson': ['Jack', 'Jill', 'Jimmy', 'Jack', 'Jack', 'Jane', 'Jimmy', 'Jack', 'Jill'], \n",
    "                    'key': ['1st Jan', '2nd Jan', '3rd Jan', '4th Jan', '5th Jan', '6th Jan', '7th Jan', '8th Jan', '9th Jan'], \n",
    "                    'Sales': [2000, 2000, 3000, 2200, 44000, 33000, 11100, 2220, 3000]})\n",
    "df4"
   ]
  },
  {
   "cell_type": "code",
   "execution_count": null,
   "metadata": {
    "colab": {},
    "colab_type": "code",
    "id": "zbfE8qQKk2WN"
   },
   "outputs": [],
   "source": [
    "# listing all unique values\n",
    "df4['Salesperson'].unique()"
   ]
  },
  {
   "cell_type": "code",
   "execution_count": null,
   "metadata": {
    "colab": {},
    "colab_type": "code",
    "id": "QPRfkAEUk2WO"
   },
   "outputs": [],
   "source": [
    "# listing number of unique values\n",
    "df4['Salesperson'].nunique()"
   ]
  },
  {
   "cell_type": "code",
   "execution_count": null,
   "metadata": {
    "colab": {},
    "colab_type": "code",
    "id": "7sl09ANXk2WP"
   },
   "outputs": [],
   "source": [
    "# listing the number of each unique value available in the column\n",
    "df4['Salesperson'].value_counts()"
   ]
  },
  {
   "cell_type": "markdown",
   "metadata": {
    "colab_type": "text",
    "id": "r8hXSkdKk2WQ"
   },
   "source": [
    "## Pandas datetime"
   ]
  },
  {
   "cell_type": "markdown",
   "metadata": {
    "colab_type": "text",
    "id": "ahRV9Zv4k2WQ"
   },
   "source": [
    "### Convert string to datetime"
   ]
  },
  {
   "cell_type": "code",
   "execution_count": null,
   "metadata": {
    "colab": {},
    "colab_type": "code",
    "id": "KSCmUB0ak2WR"
   },
   "outputs": [],
   "source": [
    "# Reference for all symbolic representations\n",
    "# https://strftime.org/\n",
    "date = pd.to_datetime(\"29 Sep 2019\", format = '%d %b %Y' )\n",
    "print(date)"
   ]
  },
  {
   "cell_type": "code",
   "execution_count": null,
   "metadata": {
    "colab": {},
    "colab_type": "code",
    "id": "_Dv7zMC0k2WS"
   },
   "outputs": [],
   "source": [
    "type(date)"
   ]
  },
  {
   "cell_type": "markdown",
   "metadata": {
    "colab_type": "text",
    "id": "r2s5S2T5k2WT"
   },
   "source": [
    "### Datetime difference"
   ]
  },
  {
   "cell_type": "code",
   "execution_count": null,
   "metadata": {
    "colab": {},
    "colab_type": "code",
    "id": "iJI4DeKTk2WT"
   },
   "outputs": [],
   "source": [
    "# Creating a list of dates with a fixed period from each other\n",
    "date_series = date + pd.to_timedelta(np.arange(12), 'D')\n",
    "print(date_series)"
   ]
  },
  {
   "cell_type": "code",
   "execution_count": null,
   "metadata": {
    "colab": {},
    "colab_type": "code",
    "id": "f55_s5QGk2WV"
   },
   "outputs": [],
   "source": [
    "# Alternative syntax\n",
    "date_series2 = pd.date_range('29 sep 2019', periods = 12, freq = 'D')\n",
    "print(date_series2)"
   ]
  },
  {
   "cell_type": "code",
   "execution_count": null,
   "metadata": {
    "colab": {},
    "colab_type": "code",
    "id": "c5OweyRZk2WW"
   },
   "outputs": [],
   "source": [
    "df5 = pd.DataFrame()\n",
    "df5['Date'] = date_series\n",
    "df5.head()"
   ]
  },
  {
   "cell_type": "code",
   "execution_count": null,
   "metadata": {
    "colab": {},
    "colab_type": "code",
    "id": "7X-ej1Buk2WX"
   },
   "outputs": [],
   "source": [
    "# Adding fixed period of time to an inital datetime object\n",
    "df5['next_week'] = df5['Date'] + pd.DateOffset(weeks=1)\n",
    "df5"
   ]
  },
  {
   "cell_type": "code",
   "execution_count": null,
   "metadata": {
    "colab": {},
    "colab_type": "code",
    "id": "7Op1OYqR4sR5"
   },
   "outputs": [],
   "source": [
    "# Calculating difference in time\n",
    "time_elapsed = df5['Date'][1] - df5['Date'][0]\n",
    "time_elapsed"
   ]
  },
  {
   "cell_type": "markdown",
   "metadata": {
    "colab_type": "text",
    "id": "tdfMmzI6k2WY"
   },
   "source": [
    "### Extract info from datetime"
   ]
  },
  {
   "cell_type": "code",
   "execution_count": null,
   "metadata": {
    "colab": {},
    "colab_type": "code",
    "id": "DxL4l4dIk2WY"
   },
   "outputs": [],
   "source": [
    "df5['Year'] = df5['Date'].dt.year\n",
    "df5['Month'] = df5['Date'].dt.month\n",
    "df5['Day'] = df5['Date'].dt.day\n",
    "df5['Hour'] = df5['Date'].dt.hour\n",
    "df5['Minute'] = df5['Date'].dt.minute\n",
    "df5.head()"
   ]
  },
  {
   "cell_type": "code",
   "execution_count": null,
   "metadata": {
    "colab": {},
    "colab_type": "code",
    "id": "a5K3X_MOk2WZ"
   },
   "outputs": [],
   "source": [
    "df5['Weekday'] = df5['Date'].dt.weekday\n",
    "df5['Day_name'] = df5['Date'].dt.day_name()\n",
    "df5['Day_of_year'] = df5['Date'].dt.dayofyear\n",
    "df5.head()"
   ]
  },
  {
   "cell_type": "markdown",
   "metadata": {
    "colab_type": "text",
    "id": "lLbIx7P_k2Wg"
   },
   "source": [
    "## Applying functions\n",
    "- pandas can make appplying functions on DataFrames very efficient if we use it the right way\n",
    "- Reference: https://realpython.com/fast-flexible-pandas/"
   ]
  },
  {
   "cell_type": "code",
   "execution_count": null,
   "metadata": {
    "colab": {},
    "colab_type": "code",
    "id": "AXU3BGy7k2Wg"
   },
   "outputs": [],
   "source": [
    "temp_df = pd.DataFrame({'num': [1, 2, 3, 4]})\n",
    "temp_df"
   ]
  },
  {
   "cell_type": "code",
   "execution_count": null,
   "metadata": {
    "colab": {},
    "colab_type": "code",
    "id": "gQP8uFg9wqxf"
   },
   "outputs": [],
   "source": [
    "def power_func(x):\n",
    "    return x*x\n",
    "temp_df['power']=temp_df['num'].apply(power_func)\n",
    "temp_df"
   ]
  },
  {
   "cell_type": "markdown",
   "metadata": {
    "colab_type": "text",
    "id": "w0Rn7mk3k2Wi"
   },
   "source": [
    "We are going to examine how fast pandas can go in applying functions by solving the problem below where we have to determine the hourly costs of electricity based on the time-of-use costs provided."
   ]
  },
  {
   "cell_type": "code",
   "execution_count": null,
   "metadata": {
    "colab": {},
    "colab_type": "code",
    "id": "zozhUi_Nk2Wi"
   },
   "outputs": [],
   "source": [
    "rates = pd.DataFrame({'Tariff Type': ['Peak', 'Shoulder', 'Off-peak'], \n",
    "                      'Cents per kwh': [28, 20, 12], \n",
    "                      'Time Range':['1700-2400', '0700-1700', '0000-0700']})\n",
    "rates"
   ]
  },
  {
   "cell_type": "markdown",
   "metadata": {
    "colab_type": "text",
    "id": "E08qwhQU1GNx"
   },
   "source": [
    "Link to original dataset in github: https://github.com/realpython/materials/blob/master/pandas-fast-flexible-intuitive/tutorial/demand_profile.csv\n",
    "\n",
    "To get the dataset directly: \n",
    "https://drive.google.com/file/d/1xH9D5ksgwhEiPh36Dp-f466qUqJJ1U0M/view?usp=sharing"
   ]
  },
  {
   "cell_type": "code",
   "execution_count": null,
   "metadata": {
    "colab": {},
    "colab_type": "code",
    "id": "w9FVXgrKx-l0"
   },
   "outputs": [],
   "source": [
    "from google.colab import files\n",
    "uploaded = files.upload()"
   ]
  },
  {
   "cell_type": "code",
   "execution_count": null,
   "metadata": {
    "colab": {},
    "colab_type": "code",
    "id": "LWsWav1JyW16"
   },
   "outputs": [],
   "source": [
    "# Each row indicates the usage for the “hour starting” at the time, so 1/1/13 0:00 indicates the usage for the first hour of January 1st.\n",
    "df7 = pd.read_csv(\"/content/demand_profile.csv\")\n",
    "df7"
   ]
  },
  {
   "cell_type": "code",
   "execution_count": null,
   "metadata": {
    "colab": {},
    "colab_type": "code",
    "id": "Z15skgilk2Wk"
   },
   "outputs": [],
   "source": [
    "# we shall first convert the 'date_time' column to datetime format to extract the hour information from it\n",
    "df7['date_time'] = pd.to_datetime(df7['date_time'])"
   ]
  },
  {
   "cell_type": "code",
   "execution_count": null,
   "metadata": {
    "colab": {},
    "colab_type": "code",
    "id": "1EHiNiALk2Wm"
   },
   "outputs": [],
   "source": [
    "import timeit\n",
    "func1 = pd.read_csv('demand_profile.csv')\n",
    "def convert(df, column_name):\n",
    "    return pd.to_datetime(df[column_name])\n",
    "\n",
    "column_name = 'date_time'\n",
    "avg_time = timeit.timeit('convert(func1, column_name)', 'from __main__ import convert, func1, column_name', number=10)/10\n",
    "print('Average runtime of function:\\n')\n",
    "avg_time"
   ]
  },
  {
   "cell_type": "code",
   "execution_count": null,
   "metadata": {
    "colab": {},
    "colab_type": "code",
    "id": "zKKR1Ml9k2Wo"
   },
   "outputs": [],
   "source": [
    "import timeit\n",
    "func2 = pd.read_csv('demand_profile.csv')\n",
    "def convert_with_format(df, column_name):\n",
    "    return pd.to_datetime(df[column_name], format='%d/%m/%y %H:%M')\n",
    "\n",
    "column_name = 'date_time'\n",
    "avg_time = timeit.timeit('convert_with_format(func2, column_name)', 'from __main__ import convert_with_format, func2, column_name', number=10)/10\n",
    "print('Average runtime of function:\\n')\n",
    "avg_time"
   ]
  },
  {
   "cell_type": "code",
   "execution_count": null,
   "metadata": {
    "colab": {},
    "colab_type": "code",
    "id": "0NNC90m1k2Wp"
   },
   "outputs": [],
   "source": [
    "# general function for criteria for charging rates for electricity used based on when it is used\n",
    "def apply_tariff(kwh, hour):\n",
    "    if 24 > hour >= 17:\n",
    "        rate = 28\n",
    "    elif 17 > hour >= 7:\n",
    "        rate = 20\n",
    "    elif 7 > hour >= 0:\n",
    "        rate = 12\n",
    "    else:\n",
    "        raise ValueError(f'Invalid hour: {hour}')\n",
    "    return kwh * rate"
   ]
  },
  {
   "cell_type": "code",
   "execution_count": null,
   "metadata": {
    "colab": {},
    "colab_type": "code",
    "id": "NBXUEiBjk2Wq"
   },
   "outputs": [],
   "source": [
    "def apply_tariff_loop(df):\n",
    "     # Calculate costs in loop.  Modifies `df` inplace.\n",
    "    energy_cost_list = []\n",
    "    for i in range(len(df)):\n",
    "         # Get electricity used and hour of day\n",
    "        energy_used = df.iloc[i]['energy_kwh']\n",
    "        hour = df.iloc[i]['date_time'].hour\n",
    "        energy_cost = apply_tariff(energy_used, hour)\n",
    "        energy_cost_list.append(energy_cost)\n",
    "    df['cost_cents'] = energy_cost_list\n",
    "\n",
    "avg_time = timeit.timeit('apply_tariff_loop(df7)', 'from __main__ import apply_tariff_loop, df7', number = 10 )/10\n",
    "print('Average runtime of function:\\n')\n",
    "avg_time"
   ]
  },
  {
   "cell_type": "code",
   "execution_count": null,
   "metadata": {
    "colab": {},
    "colab_type": "code",
    "id": "CfgCHHZAk2Wr"
   },
   "outputs": [],
   "source": [
    "def apply_tariff_iterrows(df):\n",
    "    energy_cost_list =[]\n",
    "    for index, row in df.iterrows():\n",
    "        energy_used = row['energy_kwh']\n",
    "        hour = row['date_time'].hour\n",
    "        energy_cost = apply_tariff(energy_used, hour) \n",
    "        energy_cost_list.append(energy_cost)\n",
    "    df['cost_cents'] = energy_cost_list\n",
    "\n",
    "avg_time = timeit.timeit('apply_tariff_iterrows(df7)', 'from __main__ import apply_tariff_iterrows, df7', number = 10)/10\n",
    "print('Average runtime of function:\\n')\n",
    "avg_time"
   ]
  },
  {
   "cell_type": "code",
   "execution_count": null,
   "metadata": {
    "colab": {},
    "colab_type": "code",
    "id": "NOFX0ZsIk2Ws"
   },
   "outputs": [],
   "source": [
    "def apply_tariff_withapply(df):\n",
    "    df['cost_cents'] = df.apply(\n",
    "    lambda row: apply_tariff(row['energy_kwh'], row['date_time'].hour), axis =1)\n",
    "    \n",
    "avg_time = timeit.timeit('apply_tariff_withapply(df7)', 'from __main__ import apply_tariff_withapply, df7', number = 10)/10\n",
    "print('Average runtime of function:\\n')\n",
    "avg_time"
   ]
  },
  {
   "cell_type": "code",
   "execution_count": null,
   "metadata": {
    "colab": {},
    "colab_type": "code",
    "id": "lkYeAakHk2Wt"
   },
   "outputs": [],
   "source": [
    "df7.set_index('date_time', inplace = True)\n",
    "\n",
    "def apply_tariff_isin(df):\n",
    "    peak_hours = df.index.hour.isin(range(7, 17))\n",
    "    shoulder_hours = df.index.hour.isin(range(17, 24))\n",
    "    off_peak_hours = df.index.hour.isin(range(0, 7))\n",
    "    \n",
    "    df.loc[peak_hours, 'cost_cents'] = df.loc[peak_hours, 'energy_kwh'] * 28\n",
    "    df.loc[peak_hours, 'cost_cents'] = df.loc[peak_hours, 'energy_kwh'] * 20\n",
    "    df.loc[peak_hours, 'cost_cents'] = df.loc[peak_hours, 'energy_kwh'] * 12\n",
    "    \n",
    "avg_time = timeit.timeit('apply_tariff_isin(df7)', 'from __main__ import apply_tariff_isin, df7', number = 10)/10\n",
    "print('Average runtime of function:\\n')\n",
    "avg_time\n",
    "\n",
    "# the .isin() method is returning an array of Boolean values\n",
    "# when you pass these Boolean arrays to the DataFrame’s .loc indexer, you get a slice of the DataFrame that only includes rows that match those hours"
   ]
  },
  {
   "cell_type": "code",
   "execution_count": null,
   "metadata": {
    "colab": {},
    "colab_type": "code",
    "id": "_bRxMxWtk2Wu"
   },
   "outputs": [],
   "source": [
    "def apply_tariff_cut(df):\n",
    "    cents_per_kwh = pd.cut(x=df.index.hour,\n",
    "                          bins = [0,6,16,23],\n",
    "                          include_lowest = True,\n",
    "                          labels = [12,20,28]).astype(int)\n",
    "    \n",
    "    df['cost_cents'] = cents_per_kwh * df['energy_kwh']\n",
    "    \n",
    "avg_time = timeit.timeit('apply_tariff_cut(df7)', 'from __main__ import apply_tariff_cut, df7', number = 10)/10\n",
    "print('Average runtime of function:\\n')\n",
    "avg_time"
   ]
  },
  {
   "cell_type": "markdown",
   "metadata": {
    "colab_type": "text",
    "id": "iPs96itAk2Wv"
   },
   "source": [
    "## Pandas Exercise"
   ]
  },
  {
   "cell_type": "markdown",
   "metadata": {
    "colab_type": "text",
    "id": "IAm0hqMyk2Wv"
   },
   "source": [
    "Here we will use the titanic dataset from https://www.kaggle.com/c/titanic/data?select=train.csv"
   ]
  },
  {
   "cell_type": "markdown",
   "metadata": {
    "colab_type": "text",
    "id": "VC8tRMtr1nNO"
   },
   "source": [
    "This is the link where you can get the dataset directly: \n",
    "https://drive.google.com/file/d/1vG3ApUCZKm-0joSrBdNmvA66dIcS_9dn/view?usp=sharing"
   ]
  },
  {
   "cell_type": "code",
   "execution_count": null,
   "metadata": {
    "colab": {},
    "colab_type": "code",
    "id": "UGhvcaEU19L0"
   },
   "outputs": [],
   "source": [
    "from google.colab import files\n",
    "uploaded = files.upload()"
   ]
  },
  {
   "cell_type": "code",
   "execution_count": null,
   "metadata": {
    "colab": {},
    "colab_type": "code",
    "id": "PSGysai_2Dwg"
   },
   "outputs": [],
   "source": [
    "import io\n",
    "titanic = pd.read_csv(io.BytesIO(uploaded['titanic_dataset.csv']))\n",
    "titanic"
   ]
  },
  {
   "cell_type": "markdown",
   "metadata": {
    "colab_type": "text",
    "id": "0uTbZflx2TUl"
   },
   "source": [
    "For coders with local Jupyter Notebook. Make sure that the notebook is in the same folder as the dataset."
   ]
  },
  {
   "cell_type": "code",
   "execution_count": null,
   "metadata": {
    "colab": {},
    "colab_type": "code",
    "id": "XdDZXMPGk2Wv"
   },
   "outputs": [],
   "source": [
    "titanic = pd.read_csv('titanic_dataset.csv')\n",
    "titanic"
   ]
  },
  {
   "cell_type": "markdown",
   "metadata": {
    "colab_type": "text",
    "id": "5FrV82USk2Ww"
   },
   "source": [
    "Question 1: What is the average fare of all passengers?"
   ]
  },
  {
   "cell_type": "code",
   "execution_count": null,
   "metadata": {
    "colab": {},
    "colab_type": "code",
    "id": "Tq53ldhjk2Ww"
   },
   "outputs": [],
   "source": [
    "#Type your code here"
   ]
  },
  {
   "cell_type": "code",
   "execution_count": null,
   "metadata": {
    "colab": {},
    "colab_type": "code",
    "id": "-z1lp6kQ5W8W"
   },
   "outputs": [],
   "source": [
    "#Expected output: 32.2042079685746"
   ]
  },
  {
   "cell_type": "markdown",
   "metadata": {
    "colab_type": "text",
    "id": "QWHlH5aWk2Wy"
   },
   "source": [
    "Question 2: What is the average fare of passengers with first class tickets?"
   ]
  },
  {
   "cell_type": "code",
   "execution_count": null,
   "metadata": {
    "colab": {},
    "colab_type": "code",
    "id": "Bp6xk5uNk2Wy"
   },
   "outputs": [],
   "source": [
    "#Type your code here"
   ]
  },
  {
   "cell_type": "code",
   "execution_count": null,
   "metadata": {
    "colab": {},
    "colab_type": "code",
    "id": "u8XpwlMz5azz"
   },
   "outputs": [],
   "source": [
    "# Expected output: 84.15468749999992"
   ]
  },
  {
   "cell_type": "markdown",
   "metadata": {
    "colab_type": "text",
    "id": "InePbP8yk2W1"
   },
   "source": [
    "Question 3: How many unique ticket numbers are there?"
   ]
  },
  {
   "cell_type": "code",
   "execution_count": null,
   "metadata": {
    "colab": {},
    "colab_type": "code",
    "id": "MYpbi0oyk2W4"
   },
   "outputs": [],
   "source": [
    "#Type your code here"
   ]
  },
  {
   "cell_type": "code",
   "execution_count": null,
   "metadata": {
    "colab": {},
    "colab_type": "code",
    "id": "lNI6iVEo5jB5"
   },
   "outputs": [],
   "source": [
    "# Expected output: 681"
   ]
  },
  {
   "cell_type": "markdown",
   "metadata": {
    "colab_type": "text",
    "id": "HkiNKLVZk2W8"
   },
   "source": [
    "Question 4: What are the cabin numbers with the most number of passengers?"
   ]
  },
  {
   "cell_type": "code",
   "execution_count": null,
   "metadata": {
    "colab": {},
    "colab_type": "code",
    "id": "M0G9J44ck2W8"
   },
   "outputs": [],
   "source": [
    "#Type your code here"
   ]
  },
  {
   "cell_type": "code",
   "execution_count": null,
   "metadata": {
    "colab": {},
    "colab_type": "code",
    "id": "IiTxTCOs6C4b"
   },
   "outputs": [],
   "source": [
    "# Expected output:\n",
    "# C23 C25 C27    4\n",
    "# G6             4\n",
    "# B96 B98        4\n",
    "# Name: Cabin, dtype: int64"
   ]
  },
  {
   "cell_type": "markdown",
   "metadata": {
    "colab_type": "text",
    "id": "nMmG2MuGk2W-"
   },
   "source": [
    "Question 5: Find the number of passengers that have siblings or spouses or parents or children on board"
   ]
  },
  {
   "cell_type": "code",
   "execution_count": null,
   "metadata": {
    "colab": {},
    "colab_type": "code",
    "id": "A6ytfcKgk2W-"
   },
   "outputs": [],
   "source": [
    "#Type your code here"
   ]
  },
  {
   "cell_type": "code",
   "execution_count": null,
   "metadata": {
    "colab": {},
    "colab_type": "code",
    "id": "kak5Nx2f6V6c"
   },
   "outputs": [],
   "source": [
    "# Expected output: 354"
   ]
  },
  {
   "cell_type": "markdown",
   "metadata": {
    "colab_type": "text",
    "id": "LBtgezMBk2XA"
   },
   "source": [
    "Question 6: Find the age of the passenger that has the word 'Capt' in his name."
   ]
  },
  {
   "cell_type": "code",
   "execution_count": null,
   "metadata": {
    "colab": {},
    "colab_type": "code",
    "id": "HcCU_kVWk2XA"
   },
   "outputs": [],
   "source": [
    "#Type your code here"
   ]
  },
  {
   "cell_type": "code",
   "execution_count": null,
   "metadata": {
    "colab": {},
    "colab_type": "code",
    "id": "2cBuGnNJ6bos"
   },
   "outputs": [],
   "source": [
    "# Expected output: 70.0"
   ]
  },
  {
   "cell_type": "markdown",
   "metadata": {
    "colab_type": "text",
    "id": "CNO0mm3gk2XC"
   },
   "source": [
    "Question 7: Find the age group that has the highest number of survivors out of these 3 provided (0 to 20(inclusive), 20 to 50(inclusive), above 50)"
   ]
  },
  {
   "cell_type": "code",
   "execution_count": null,
   "metadata": {
    "colab": {},
    "colab_type": "code",
    "id": "LQNikOQ0k2XC"
   },
   "outputs": [],
   "source": [
    "#Type your code here"
   ]
  },
  {
   "cell_type": "code",
   "execution_count": null,
   "metadata": {
    "colab": {},
    "colab_type": "code",
    "id": "Zio4AAOu8_9g"
   },
   "outputs": [],
   "source": [
    "# Expected output: 20 to 50(inclusive)"
   ]
  },
  {
   "cell_type": "markdown",
   "metadata": {
    "colab_type": "text",
    "id": "5xzhIY9Mk2XG"
   },
   "source": [
    "# Data Visualisation with Matplotlib and Seaborn"
   ]
  },
  {
   "cell_type": "markdown",
   "metadata": {
    "colab_type": "text",
    "id": "ukMLgXp7k2XG"
   },
   "source": [
    "## Matplotlib"
   ]
  },
  {
   "cell_type": "code",
   "execution_count": null,
   "metadata": {
    "colab": {},
    "colab_type": "code",
    "id": "a2IiBChSk2XG"
   },
   "outputs": [],
   "source": [
    "import matplotlib.pyplot as plt"
   ]
  },
  {
   "cell_type": "markdown",
   "metadata": {
    "colab_type": "text",
    "id": "w-X1uV1jk2XH"
   },
   "source": [
    "For jupyter notebooks, u will need the above line of code to see the plots."
   ]
  },
  {
   "cell_type": "code",
   "execution_count": null,
   "metadata": {
    "colab": {},
    "colab_type": "code",
    "id": "4EiOiQkCk2XH"
   },
   "outputs": [],
   "source": [
    "%matplotlib inline"
   ]
  },
  {
   "cell_type": "markdown",
   "metadata": {
    "colab_type": "text",
    "id": "ndBaufjXk2XI"
   },
   "source": [
    "For other editors, use: plt.show() at the end of all plotting commands to have the figure pop up in another window."
   ]
  },
  {
   "cell_type": "code",
   "execution_count": null,
   "metadata": {
    "colab": {},
    "colab_type": "code",
    "id": "iBK0yXzXk2XI"
   },
   "outputs": [],
   "source": [
    "import numpy as np\n",
    "x = np.linspace(0, 2, 11)\n",
    "y = x ** 2"
   ]
  },
  {
   "cell_type": "code",
   "execution_count": null,
   "metadata": {
    "colab": {},
    "colab_type": "code",
    "id": "BFw8cWDFk2XJ"
   },
   "outputs": [],
   "source": [
    "x"
   ]
  },
  {
   "cell_type": "code",
   "execution_count": null,
   "metadata": {
    "colab": {},
    "colab_type": "code",
    "id": "7IzvISyHk2XK"
   },
   "outputs": [],
   "source": [
    "y"
   ]
  },
  {
   "cell_type": "markdown",
   "metadata": {
    "colab_type": "text",
    "id": "LvC855dBk2XL"
   },
   "source": [
    "### Basic plotting"
   ]
  },
  {
   "cell_type": "code",
   "execution_count": null,
   "metadata": {
    "colab": {},
    "colab_type": "code",
    "id": "Ge_9_tKyk2XL"
   },
   "outputs": [],
   "source": [
    "plt.plot(x, y, 'b') # 'r' is the color red\n",
    "plt.xlabel('X Axis Title Here')\n",
    "plt.ylabel('Y Axis Title Here')\n",
    "plt.title('String Title Here')\n",
    "plt.show()"
   ]
  },
  {
   "cell_type": "markdown",
   "metadata": {
    "colab_type": "text",
    "id": "QeZnqyWIk2XN"
   },
   "source": [
    "### Creating Multiplots on Same Canvas"
   ]
  },
  {
   "cell_type": "code",
   "execution_count": null,
   "metadata": {
    "colab": {},
    "colab_type": "code",
    "id": "JKseZUwnk2XN"
   },
   "outputs": [],
   "source": [
    "# plt.subplot(nrows, ncols, plot_number)\n",
    "plt.subplot(1,2,1)\n",
    "plt.plot(x, y, 'g--') # More on color options later\n",
    "plt.subplot(1,2,2)\n",
    "plt.plot(x, y, 'b*-');"
   ]
  },
  {
   "cell_type": "markdown",
   "metadata": {
    "colab_type": "text",
    "id": "GHyzu-D8k2XO"
   },
   "source": [
    "### Matplotlib Object Oriented Methods\n",
    "- Plotting with the more formal object oriented method will grant you greater control over your plots\n",
    "- It can be done by first instantiating a figure object and call methods or attributes of that object"
   ]
  },
  {
   "cell_type": "code",
   "execution_count": null,
   "metadata": {
    "colab": {},
    "colab_type": "code",
    "id": "8m06Ey3pk2XP"
   },
   "outputs": [],
   "source": [
    "# Create Figure (empty canvas)\n",
    "fig = plt.figure()\n",
    "\n",
    "# Add set of axes to figure\n",
    "axes = fig.add_axes([0.2, 0.2, 1, 1]) # left, bottom, width, height \n",
    "\n",
    "# Plot on that set of axes\n",
    "axes.plot(x, y, 'b')\n",
    "axes.set_xlabel('Set X Label') \n",
    "axes.set_ylabel('Set y Label')\n",
    "axes.set_title('Set Title')"
   ]
  },
  {
   "cell_type": "code",
   "execution_count": null,
   "metadata": {
    "colab": {},
    "colab_type": "code",
    "id": "Yu6YAhvzk2XQ"
   },
   "outputs": [],
   "source": [
    "# Creates blank canvas\n",
    "fig = plt.figure()\n",
    "\n",
    "axes1 = fig.add_axes([0.1, 0.1, 0.8, 0.8]) # main axes\n",
    "axes2 = fig.add_axes([0.5, 0.5, 0.4, 0.3]) # inset axes\n",
    "\n",
    "# Larger Figure Axes 1\n",
    "axes1.plot(x, y, 'b')\n",
    "axes1.set_xlabel('X_label_axes2')\n",
    "axes1.set_ylabel('Y_label_axes2')\n",
    "axes1.set_title('Axes 2 Title')\n",
    "\n",
    "# Insert Figure Axes 2\n",
    "axes2.plot(y, x, 'r')\n",
    "axes2.set_xlabel('X_label_axes2')\n",
    "axes2.set_ylabel('Y_label_axes2')\n",
    "axes2.set_title('Axes 2 Title');"
   ]
  },
  {
   "cell_type": "code",
   "execution_count": null,
   "metadata": {
    "colab": {},
    "colab_type": "code",
    "id": "yTRt-U3Ck2XR"
   },
   "outputs": [],
   "source": [
    "# Use similar to plt.figure() except use tuple unpacking to grab fig and axes\n",
    "fig, axes = plt.subplots()\n",
    "\n",
    "# Now use the axes object to add stuff to plot\n",
    "axes.plot(x, y, 'r')\n",
    "axes.set_xlabel('x')\n",
    "axes.set_ylabel('y')\n",
    "axes.set_title('title');"
   ]
  },
  {
   "cell_type": "code",
   "execution_count": null,
   "metadata": {
    "colab": {},
    "colab_type": "code",
    "id": "Q3-0Clv9k2XS"
   },
   "outputs": [],
   "source": [
    "# Empty canvas of 1 by 2 subplots\n",
    "fig, axes = plt.subplots(nrows=1, ncols=2)"
   ]
  },
  {
   "cell_type": "code",
   "execution_count": null,
   "metadata": {
    "colab": {},
    "colab_type": "code",
    "id": "laoRe0gTk2XT"
   },
   "outputs": [],
   "source": [
    "for ax in axes:\n",
    "    ax.plot(x, y, 'b')\n",
    "    ax.set_xlabel('x')\n",
    "    ax.set_ylabel('y')\n",
    "    ax.set_title('title')\n",
    "\n",
    "# Display the figure object    \n",
    "fig"
   ]
  },
  {
   "cell_type": "markdown",
   "metadata": {
    "colab_type": "text",
    "id": "Ig4ic8cJk2XU"
   },
   "source": [
    "A common issue with matplolib is overlapping subplots or figures. We ca use fig.tight_layout() or plt.tight_layout() method, which automatically adjusts the positions of the axes on the figure canvas so that there is no overlapping content:"
   ]
  },
  {
   "cell_type": "code",
   "execution_count": null,
   "metadata": {
    "colab": {},
    "colab_type": "code",
    "id": "psPmf5jHk2XU"
   },
   "outputs": [],
   "source": [
    "fig, axes = plt.subplots(nrows=1, ncols=2)\n",
    "\n",
    "for ax in axes:\n",
    "    ax.plot(x, y, 'g')\n",
    "    ax.set_xlabel('x')\n",
    "    ax.set_ylabel('y')\n",
    "    ax.set_title('title')\n",
    "\n",
    "fig    \n",
    "plt.tight_layout()"
   ]
  },
  {
   "cell_type": "markdown",
   "metadata": {
    "colab_type": "text",
    "id": "ld8tw1Eqk2XV"
   },
   "source": [
    "Setting the size of the figure:"
   ]
  },
  {
   "cell_type": "code",
   "execution_count": null,
   "metadata": {
    "colab": {},
    "colab_type": "code",
    "id": "9sT2vZBhk2XV"
   },
   "outputs": [],
   "source": [
    "fig, axes = plt.subplots(figsize=(12,3))\n",
    "\n",
    "axes.plot(x, y, 'r')\n",
    "axes.set_xlabel('x')\n",
    "axes.set_ylabel('y')\n",
    "axes.set_title('title');"
   ]
  },
  {
   "cell_type": "markdown",
   "metadata": {
    "colab_type": "text",
    "id": "FkWJ7d-1k2XW"
   },
   "source": [
    "Adding labels and legends:"
   ]
  },
  {
   "cell_type": "code",
   "execution_count": null,
   "metadata": {
    "colab": {},
    "colab_type": "code",
    "id": "Kbg3YdMek2XW"
   },
   "outputs": [],
   "source": [
    "fig = plt.figure()\n",
    "\n",
    "ax = fig.add_axes([0,0,1,1])\n",
    "\n",
    "ax.plot(x, x**2, label=\"x**2\")\n",
    "ax.plot(x, x**3, label=\"x**3\")\n",
    "ax.legend()"
   ]
  },
  {
   "cell_type": "code",
   "execution_count": null,
   "metadata": {
    "colab": {},
    "colab_type": "code",
    "id": "uqKtz97lk2XX"
   },
   "outputs": [],
   "source": [
    "# Lots of options....\n",
    "\n",
    "ax.legend(loc=1) # upper right corner\n",
    "ax.legend(loc=2) # upper left corner\n",
    "ax.legend(loc=3) # lower left corner\n",
    "ax.legend(loc=4) # lower right corner\n",
    "\n",
    "# .. many more options are available\n",
    "\n",
    "# # Most common to choose\n",
    "ax.legend(loc=0) # let matplotlib decide the optimal location\n",
    "fig"
   ]
  },
  {
   "cell_type": "markdown",
   "metadata": {
    "colab_type": "text",
    "id": "modW4uCxk2XZ"
   },
   "source": [
    "We can configure the ranges of the axes using the set_ylim and set_xlim methods in the axis object, or axis('tight') for automatically getting \"tightly fitted\" axes ranges:"
   ]
  },
  {
   "cell_type": "code",
   "execution_count": null,
   "metadata": {
    "colab": {},
    "colab_type": "code",
    "id": "hSrObFFjk2XZ"
   },
   "outputs": [],
   "source": [
    "fig, axes = plt.subplots(1, 3, figsize=(12, 4))\n",
    "\n",
    "axes[0].plot(x, x**2, x, x**3)\n",
    "axes[0].set_title(\"default axes ranges\")\n",
    "\n",
    "axes[1].plot(x, x**2, x, x**3)\n",
    "axes[1].axis('tight')\n",
    "axes[1].set_title(\"tight axes\")\n",
    "\n",
    "axes[2].plot(x, x**2, x, x**3)\n",
    "axes[2].set_ylim([2, 4])\n",
    "axes[2].set_xlim([1, 2])\n",
    "axes[2].set_title(\"custom axes range\");"
   ]
  },
  {
   "cell_type": "markdown",
   "metadata": {
    "colab_type": "text",
    "id": "XXJlJgUqk2Xa"
   },
   "source": [
    "## Seaborn"
   ]
  },
  {
   "cell_type": "markdown",
   "metadata": {
    "colab_type": "text",
    "id": "s-78SuKlk2Xd"
   },
   "source": [
    "### Distribution Plots"
   ]
  },
  {
   "cell_type": "code",
   "execution_count": null,
   "metadata": {
    "colab": {},
    "colab_type": "code",
    "id": "ebBGkw_Hk2Xd"
   },
   "outputs": [],
   "source": [
    "import seaborn as sns\n",
    "%matplotlib inline"
   ]
  },
  {
   "cell_type": "markdown",
   "metadata": {
    "colab_type": "text",
    "id": "dEpDSUtWk2Xe"
   },
   "source": [
    "Seaborn comes with built-in datasets!\n",
    "\n",
    "Refer to https://github.com/mwaskom/seaborn-data for more dataset choices"
   ]
  },
  {
   "cell_type": "code",
   "execution_count": null,
   "metadata": {
    "colab": {},
    "colab_type": "code",
    "id": "Zvyj573Kk2Xe"
   },
   "outputs": [],
   "source": [
    "tips = sns.load_dataset('tips')\n",
    "tips"
   ]
  },
  {
   "cell_type": "markdown",
   "metadata": {
    "colab_type": "text",
    "id": "4cyc4tm2k2Xf"
   },
   "source": [
    "Displot\n",
    "- combines the matplotlib hist function (with automatic calculation of a good default bin size) with the seaborn kdeplot() and rugplot() functions\n",
    "- KDE Plot described as Kernel Density Estimate is used for visualizing the Probability Density of a continuous variable. It depicts the probability density at different values in a continuous variable."
   ]
  },
  {
   "cell_type": "code",
   "execution_count": null,
   "metadata": {
    "colab": {},
    "colab_type": "code",
    "id": "-EWGUuXbk2Xf"
   },
   "outputs": [],
   "source": [
    "sns.distplot(tips['tip'], hist=True, kde=True, rug=True, bins=25)\n",
    "# Seaborn's barplot returns an axis-object\n",
    "#ax.set(xlabel='Tip', ylabel='Density')"
   ]
  },
  {
   "cell_type": "markdown",
   "metadata": {
    "colab_type": "text",
    "id": "LAcFXqYJk2Xg"
   },
   "source": [
    "Jointplot\n",
    "- Draw a plot of two variables with bivariate and univariate graphs"
   ]
  },
  {
   "cell_type": "code",
   "execution_count": null,
   "metadata": {
    "colab": {},
    "colab_type": "code",
    "id": "mjOEvzdQk2Xg"
   },
   "outputs": [],
   "source": [
    "# “scatter” | “kde” | “hist” | “hex” | “reg” | “resid”\n",
    "sns.jointplot(x='total_bill',y='tip',data=tips,kind='scatter')"
   ]
  },
  {
   "cell_type": "markdown",
   "metadata": {
    "colab_type": "text",
    "id": "5HGaUCHwk2Xi"
   },
   "source": [
    "Pairplot\n",
    "- Plot pairwise relationships between numerical data in a dataset."
   ]
  },
  {
   "cell_type": "code",
   "execution_count": null,
   "metadata": {
    "colab": {},
    "colab_type": "code",
    "id": "1Ui5Y-Rfk2Xi"
   },
   "outputs": [],
   "source": [
    "sns.pairplot(tips)"
   ]
  },
  {
   "cell_type": "markdown",
   "metadata": {
    "colab_type": "text",
    "id": "ucOjVROyk2Xj"
   },
   "source": [
    "### Categorical Plots"
   ]
  },
  {
   "cell_type": "markdown",
   "metadata": {
    "colab_type": "text",
    "id": "uVOsDUdAk2Xj"
   },
   "source": [
    "Countplot and barplot"
   ]
  },
  {
   "cell_type": "code",
   "execution_count": null,
   "metadata": {
    "colab": {},
    "colab_type": "code",
    "id": "c2waP4FYk2Xj"
   },
   "outputs": [],
   "source": [
    "# only plots the frequency\n",
    "sns.countplot(x='sex',data=tips)"
   ]
  },
  {
   "cell_type": "code",
   "execution_count": null,
   "metadata": {
    "colab": {},
    "colab_type": "code",
    "id": "ICZCBrNgk2Xl"
   },
   "outputs": [],
   "source": [
    "# includes functions in plot, default function is mean\n",
    "sns.barplot(x='sex',y='total_bill',data=tips, estimator=np.mean)"
   ]
  },
  {
   "cell_type": "markdown",
   "metadata": {
    "colab_type": "text",
    "id": "eYvxdPrLFKNW"
   },
   "source": [
    "![Screenshot (132).png](data:image/png;base64,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)"
   ]
  },
  {
   "cell_type": "markdown",
   "metadata": {
    "colab_type": "text",
    "id": "Rz0Iz5mLFNuX"
   },
   "source": [
    "Link to original image: https://towardsdatascience.com/violin-plots-explained-fb1d115e023d"
   ]
  },
  {
   "cell_type": "markdown",
   "metadata": {
    "colab_type": "text",
    "id": "WASk4Xw0k2Xl"
   },
   "source": [
    "Boxplot\n",
    "-  the box shows the quartiles of the dataset while the whiskers extend to show the rest of the distribution, except for points that are determined to be “outliers” using a method that is a function of the inter-quartile range"
   ]
  },
  {
   "cell_type": "code",
   "execution_count": null,
   "metadata": {
    "colab": {},
    "colab_type": "code",
    "id": "QR_lD6Hgk2Xl"
   },
   "outputs": [],
   "source": [
    "sns.boxplot(x=\"day\", y=\"total_bill\", data=tips, palette='rainbow')"
   ]
  },
  {
   "cell_type": "code",
   "execution_count": null,
   "metadata": {
    "colab": {},
    "colab_type": "code",
    "id": "qAj-qnNxk2Xn"
   },
   "outputs": [],
   "source": [
    "sns.boxplot(x=\"day\", y=\"total_bill\", hue=\"smoker\",data=tips, palette=\"coolwarm\")"
   ]
  },
  {
   "cell_type": "markdown",
   "metadata": {
    "colab_type": "text",
    "id": "472I8Pyrk2Xn"
   },
   "source": [
    "Violinplot\n",
    "- a combination of boxplot and kernel density estimate"
   ]
  },
  {
   "cell_type": "code",
   "execution_count": null,
   "metadata": {
    "colab": {},
    "colab_type": "code",
    "id": "HXF_PI0Zk2Xn"
   },
   "outputs": [],
   "source": [
    "sns.violinplot(x=\"day\", y=\"total_bill\", data=tips,palette='rainbow')"
   ]
  }
 ],
 "metadata": {
  "colab": {
   "collapsed_sections": [
    "OLubmP24Td_e",
    "sh43XUCGmf1C",
    "A47Wg2M3k2UL",
    "waR7E65nk2UY",
    "sDlPdEP5k2Ul",
    "bp4SeowJoij4",
    "gBdm8McLk2Ur",
    "bki09h5Ek2VC",
    "17L0Jq1ck2VE",
    "dSV6n5nUk2VI",
    "DDIALiEIk2Vg",
    "dRD74RNGk2V2",
    "MeF849FIk2V3",
    "ycLUrkmbk2V_",
    "YqWKh4sOk2WM",
    "ahRV9Zv4k2WQ",
    "r2s5S2T5k2WT",
    "tdfMmzI6k2WY",
    "ukMLgXp7k2XG",
    "LvC855dBk2XL",
    "QeZnqyWIk2XN",
    "GHyzu-D8k2XO"
   ],
   "name": "Intro to python viewers' edition.ipynb",
   "provenance": [],
   "toc_visible": true
  },
  "kernelspec": {
   "display_name": "Python 3",
   "language": "python",
   "name": "python3"
  },
  "language_info": {
   "codemirror_mode": {
    "name": "ipython",
    "version": 3
   },
   "file_extension": ".py",
   "mimetype": "text/x-python",
   "name": "python",
   "nbconvert_exporter": "python",
   "pygments_lexer": "ipython3",
   "version": "3.8.3"
  }
 },
 "nbformat": 4,
 "nbformat_minor": 1
}
